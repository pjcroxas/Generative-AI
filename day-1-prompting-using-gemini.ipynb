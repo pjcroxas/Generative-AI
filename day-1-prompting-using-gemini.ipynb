{
 "cells": [
  {
   "cell_type": "markdown",
   "id": "2e2694c8",
   "metadata": {
    "id": "jkxRSYjzA1oX",
    "papermill": {
     "duration": 0.014484,
     "end_time": "2025-03-31T15:09:15.160888",
     "exception": false,
     "start_time": "2025-03-31T15:09:15.146404",
     "status": "completed"
    },
    "tags": []
   },
   "source": [
    "##### Copyright 2025 Google LLC."
   ]
  },
  {
   "cell_type": "code",
   "execution_count": 1,
   "id": "50fc5a56",
   "metadata": {
    "cellView": "form",
    "execution": {
     "iopub.execute_input": "2025-03-31T15:09:15.193717Z",
     "iopub.status.busy": "2025-03-31T15:09:15.192228Z",
     "iopub.status.idle": "2025-03-31T15:09:15.199094Z",
     "shell.execute_reply": "2025-03-31T15:09:15.198097Z"
    },
    "id": "5u5OZ2ShA3BA",
    "jupyter": {
     "source_hidden": true
    },
    "papermill": {
     "duration": 0.025665,
     "end_time": "2025-03-31T15:09:15.201892",
     "exception": false,
     "start_time": "2025-03-31T15:09:15.176227",
     "status": "completed"
    },
    "tags": []
   },
   "outputs": [],
   "source": [
    "# @title Licensed under the Apache License, Version 2.0 (the \"License\");\n",
    "# you may not use this file except in compliance with the License.\n",
    "# You may obtain a copy of the License at\n",
    "#\n",
    "# https://www.apache.org/licenses/LICENSE-2.0\n",
    "#\n",
    "# Unless required by applicable law or agreed to in writing, software\n",
    "# distributed under the License is distributed on an \"AS IS\" BASIS,\n",
    "# WITHOUT WARRANTIES OR CONDITIONS OF ANY KIND, either express or implied.\n",
    "# See the License for the specific language governing permissions and\n",
    "# limitations under the License."
   ]
  },
  {
   "cell_type": "markdown",
   "id": "f8bbe079",
   "metadata": {
    "id": "csNPnkuCobmG",
    "papermill": {
     "duration": 0.012839,
     "end_time": "2025-03-31T15:09:15.228260",
     "exception": false,
     "start_time": "2025-03-31T15:09:15.215421",
     "status": "completed"
    },
    "tags": []
   },
   "source": [
    "# Day 1 - Prompting\n",
    "\n",
    "Welcome to the Kaggle 5-day Generative AI course!\n",
    "\n",
    "This notebook will show you how to get started with the Gemini API and walk you through some of the example prompts and techniques that you can also read about in the Prompting whitepaper. You don't need to read the whitepaper to use this notebook, but the papers will give you some theoretical context and background to complement this interactive notebook.\n",
    "\n",
    "\n",
    "## Before you begin\n",
    "\n",
    "In this notebook, you'll start exploring prompting using the Python SDK and AI Studio. For some inspiration, you might enjoy exploring some apps that have been built using the Gemini family of models. Here are a few that we like, and we think you will too.\n",
    "\n",
    "* [TextFX](https://textfx.withgoogle.com/) is a suite of AI-powered tools for rappers, made in collaboration with Lupe Fiasco,\n",
    "* [SQL Talk](https://sql-talk-r5gdynozbq-uc.a.run.app/) shows how you can talk directly to a database using the Gemini API,\n",
    "* [NotebookLM](https://notebooklm.google/) uses Gemini models to build your own personal AI research assistant.\n",
    "\n",
    "\n",
    "## For help\n",
    "\n",
    "**Common issues are covered in the [FAQ and troubleshooting guide](https://www.kaggle.com/code/markishere/day-0-troubleshooting-and-faqs).**\n",
    "\n",
    "## New for Gemini 2.0!\n",
    "\n",
    "This course material was first launched in November 2024. The AI and LLM space is moving incredibly fast, so we have made some updates to use the latest models and capabilities.\n",
    "\n",
    "* These codelabs have been updated to use the Gemini 2.0 family of models.\n",
    "* The Python SDK has been updated from `google-generativeai` to the new, unified [`google-genai`](https://pypi.org/project/google-genai) SDK.\n",
    "  * This new SDK works with both the developer Gemini API as well as Google Cloud Vertex AI, and switching is [as simple as changing some fields](https://pypi.org/project/google-genai/#:~:text=.Client%28%29-,API%20Selection,-By%20default%2C%20the).\n",
    "* New model capabilities have been added to the relevant codelabs, such as \"thinking mode\" in this lab.\n",
    "* Day 1 includes a new [Evaluation codelab](https://www.kaggle.com/code/markishere/day-1-evaluation-and-structured-output)."
   ]
  },
  {
   "attachments": {
    "d8299597-f771-4195-ac94-1d6f658ef2bd.png": {
     "image/png": "[encoded data removed]"
    },
    "ed25e346-2e15-4ab0-bc22-503eb1845e66.png": {
     "image/png": "[encoded data removed]"
    }
   },
   "cell_type": "markdown",
   "id": "ae45ffe7",
   "metadata": {
    "id": "f00ea7c99e44",
    "papermill": {
     "duration": 0.013203,
     "end_time": "2025-03-31T15:09:15.254914",
     "exception": false,
     "start_time": "2025-03-31T15:09:15.241711",
     "status": "completed"
    },
    "tags": []
   },
   "source": [
    "## Get started with Kaggle notebooks\n",
    "\n",
    "If this is your first time using a Kaggle notebook, welcome! You can read about how to use Kaggle notebooks [in the docs](https://www.kaggle.com/docs/notebooks).\n",
    "\n",
    "First, you will need to phone verify your account at kaggle.com/settings.\n",
    "\n",
    "![](https://storage.googleapis.com/kaggle-media/Images/5dgai_0.png)"
   ]
  },
  {
   "cell_type": "markdown",
   "id": "ef750430",
   "metadata": {
    "papermill": {
     "duration": 0.012984,
     "end_time": "2025-03-31T15:09:15.281987",
     "exception": false,
     "start_time": "2025-03-31T15:09:15.269003",
     "status": "completed"
    },
    "tags": []
   },
   "source": [
    "To run this notebook, as well as the others in this course, you will need to make a copy, or fork, the notebook. Look for the `Copy and Edit` button in the top-right, and **click it** to make an editable, private copy of the notebook. It should look like this one:\n",
    "\n",
    "![Copy and Edit button](https://storage.googleapis.com/kaggle-media/Images/5gdai_sc_1.png)\n",
    "\n",
    "Your copy will now have a ▶️ **Run** button next to each code cell that you can press to execute that cell. These notebooks are expected to be run in order from top-to-bottom, but you are encouraged to add new cells, run your own code and explore. If you get stuck, you can try the `Factory reset` option in the `Run` menu, or head back to the original notebook and make a fresh copy.\n",
    "\n",
    "![Run cell button](https://storage.googleapis.com/kaggle-media/Images/5gdai_sc_2.png)\n",
    "\n",
    "### Problems?\n",
    "\n",
    "If you have any problems, head over to the [Kaggle Discord](https://discord.com/invite/kaggle), find the [`#5dgai-q-and-a` channel](https://discord.com/channels/1101210829807956100/1303438695143178251) and ask for help."
   ]
  },
  {
   "cell_type": "markdown",
   "id": "ded2a0a2",
   "metadata": {
    "id": "ExkOXcPxtTb5",
    "papermill": {
     "duration": 0.014794,
     "end_time": "2025-03-31T15:09:15.310223",
     "exception": false,
     "start_time": "2025-03-31T15:09:15.295429",
     "status": "completed"
    },
    "tags": []
   },
   "source": [
    "## Get started with the Gemini API\n",
    "\n",
    "All of the exercises in this notebook will use the [Gemini API](https://ai.google.dev/gemini-api/) by way of the [Python SDK](https://pypi.org/project/google-genai/). Each of these prompts can be accessed directly in [Google AI Studio](https://aistudio.google.com/) too, so if you would rather use a web interface and skip the code for this activity, look for the <img src=\"https://ai.google.dev/site-assets/images/marketing/home/icon-ais.png\" style=\"height: 24px\" height=24/> AI Studio link on each prompt."
   ]
  },
  {
   "cell_type": "markdown",
   "id": "32ca5b92",
   "metadata": {
    "papermill": {
     "duration": 0.012996,
     "end_time": "2025-03-31T15:09:15.336674",
     "exception": false,
     "start_time": "2025-03-31T15:09:15.323678",
     "status": "completed"
    },
    "tags": []
   },
   "source": [
    "Next, you will need to add your API key to your Kaggle Notebook as a Kaggle User Secret.\n",
    "\n",
    "![](https://storage.googleapis.com/kaggle-media/Images/5dgai_1.png)\n",
    "![](https://storage.googleapis.com/kaggle-media/Images/5dgai_2.png)\n",
    "![](https://storage.googleapis.com/kaggle-media/Images/5dgai_3.png)\n",
    "![](https://storage.googleapis.com/kaggle-media/Images/5dgai_4.png)"
   ]
  },
  {
   "cell_type": "markdown",
   "id": "4c59129b",
   "metadata": {
    "id": "UAjUV3BsvFXQ",
    "papermill": {
     "duration": 0.012939,
     "end_time": "2025-03-31T15:09:15.362784",
     "exception": false,
     "start_time": "2025-03-31T15:09:15.349845",
     "status": "completed"
    },
    "tags": []
   },
   "source": [
    "### Install the SDK"
   ]
  },
  {
   "cell_type": "code",
   "execution_count": 2,
   "id": "11c7663a",
   "metadata": {
    "execution": {
     "iopub.execute_input": "2025-03-31T15:09:15.391723Z",
     "iopub.status.busy": "2025-03-31T15:09:15.390596Z",
     "iopub.status.idle": "2025-03-31T15:09:15.395708Z",
     "shell.execute_reply": "2025-03-31T15:09:15.394523Z"
    },
    "id": "NzwzJFU9LqkJ",
    "papermill": {
     "duration": 0.022035,
     "end_time": "2025-03-31T15:09:15.398060",
     "exception": false,
     "start_time": "2025-03-31T15:09:15.376025",
     "status": "completed"
    },
    "tags": []
   },
   "outputs": [],
   "source": [
    "# !pip uninstall -qqy jupyterlab  # Remove unused packages from Kaggle's base image that conflict\n",
    "# !pip install -U -q \"google-genai==1.7.0\""
   ]
  },
  {
   "cell_type": "code",
   "execution_count": 3,
   "id": "5536676d",
   "metadata": {
    "execution": {
     "iopub.execute_input": "2025-03-31T15:09:15.426956Z",
     "iopub.status.busy": "2025-03-31T15:09:15.426471Z",
     "iopub.status.idle": "2025-03-31T15:09:22.073679Z",
     "shell.execute_reply": "2025-03-31T15:09:22.071614Z"
    },
    "papermill": {
     "duration": 6.666531,
     "end_time": "2025-03-31T15:09:22.077996",
     "exception": false,
     "start_time": "2025-03-31T15:09:15.411465",
     "status": "completed"
    },
    "tags": []
   },
   "outputs": [],
   "source": [
    "# Remove unused packages from Kaggle's base image that conflict\n",
    "!pip uninstall -qqy jupyterlab  "
   ]
  },
  {
   "cell_type": "code",
   "execution_count": 4,
   "id": "1460aa1a",
   "metadata": {
    "execution": {
     "iopub.execute_input": "2025-03-31T15:09:22.108074Z",
     "iopub.status.busy": "2025-03-31T15:09:22.106887Z",
     "iopub.status.idle": "2025-03-31T15:09:35.937552Z",
     "shell.execute_reply": "2025-03-31T15:09:35.935845Z"
    },
    "papermill": {
     "duration": 13.849326,
     "end_time": "2025-03-31T15:09:35.940884",
     "exception": false,
     "start_time": "2025-03-31T15:09:22.091558",
     "status": "completed"
    },
    "tags": []
   },
   "outputs": [],
   "source": [
    "!pip install -U -q \"google-genai==1.7.0\""
   ]
  },
  {
   "cell_type": "markdown",
   "id": "2b821147",
   "metadata": {
    "papermill": {
     "duration": 0.013232,
     "end_time": "2025-03-31T15:09:35.969998",
     "exception": false,
     "start_time": "2025-03-31T15:09:35.956766",
     "status": "completed"
    },
    "tags": []
   },
   "source": [
    "Import the SDK and some helpers for rendering the output."
   ]
  },
  {
   "cell_type": "code",
   "execution_count": 5,
   "id": "685459bc",
   "metadata": {
    "execution": {
     "iopub.execute_input": "2025-03-31T15:09:36.001723Z",
     "iopub.status.busy": "2025-03-31T15:09:36.001114Z",
     "iopub.status.idle": "2025-03-31T15:09:37.552164Z",
     "shell.execute_reply": "2025-03-31T15:09:37.550924Z"
    },
    "id": "5DwxYIRavMST",
    "papermill": {
     "duration": 1.569143,
     "end_time": "2025-03-31T15:09:37.554871",
     "exception": false,
     "start_time": "2025-03-31T15:09:35.985728",
     "status": "completed"
    },
    "tags": []
   },
   "outputs": [],
   "source": [
    "from google import genai\n",
    "from google.genai import types\n",
    "\n",
    "from IPython.display import HTML, Markdown, display"
   ]
  },
  {
   "cell_type": "markdown",
   "id": "bd1ce6c5",
   "metadata": {
    "papermill": {
     "duration": 0.012679,
     "end_time": "2025-03-31T15:09:37.580742",
     "exception": false,
     "start_time": "2025-03-31T15:09:37.568063",
     "status": "completed"
    },
    "tags": []
   },
   "source": [
    "Set up a retry helper. This allows you to \"Run all\" without worrying about per-minute quota."
   ]
  },
  {
   "cell_type": "code",
   "execution_count": 6,
   "id": "8714339e",
   "metadata": {
    "execution": {
     "iopub.execute_input": "2025-03-31T15:09:37.609131Z",
     "iopub.status.busy": "2025-03-31T15:09:37.607738Z",
     "iopub.status.idle": "2025-03-31T15:09:37.782744Z",
     "shell.execute_reply": "2025-03-31T15:09:37.781585Z"
    },
    "papermill": {
     "duration": 0.192121,
     "end_time": "2025-03-31T15:09:37.785488",
     "exception": false,
     "start_time": "2025-03-31T15:09:37.593367",
     "status": "completed"
    },
    "tags": []
   },
   "outputs": [],
   "source": [
    "from google.api_core import retry\n",
    "\n",
    "\n",
    "is_retriable = lambda e: (isinstance(e, genai.errors.APIError) and e.code in {429, 503})\n",
    "\n",
    "genai.models.Models.generate_content = retry.Retry(\n",
    "    predicate=is_retriable)(genai.models.Models.generate_content)"
   ]
  },
  {
   "cell_type": "markdown",
   "id": "d093f6ca",
   "metadata": {
    "id": "DNEt2BCOvOJ1",
    "papermill": {
     "duration": 0.01299,
     "end_time": "2025-03-31T15:09:37.811967",
     "exception": false,
     "start_time": "2025-03-31T15:09:37.798977",
     "status": "completed"
    },
    "tags": []
   },
   "source": [
    "### Set up your API key\n",
    "\n",
    "To run the following cell, your API key must be stored it in a [Kaggle secret](https://www.kaggle.com/discussions/product-feedback/114053) named `GOOGLE_API_KEY`.\n",
    "\n",
    "If you don't already have an API key, you can grab one from [AI Studio](https://aistudio.google.com/app/apikey). You can find [detailed instructions in the docs](https://ai.google.dev/gemini-api/docs/api-key).\n",
    "\n",
    "To make the key available through Kaggle secrets, choose `Secrets` from the `Add-ons` menu and follow the instructions to add your key or enable it for this notebook."
   ]
  },
  {
   "cell_type": "code",
   "execution_count": 7,
   "id": "65115a17",
   "metadata": {
    "execution": {
     "iopub.execute_input": "2025-03-31T15:09:37.840541Z",
     "iopub.status.busy": "2025-03-31T15:09:37.840006Z",
     "iopub.status.idle": "2025-03-31T15:09:37.998127Z",
     "shell.execute_reply": "2025-03-31T15:09:37.997063Z"
    },
    "id": "SHl0bkPCvayd",
    "papermill": {
     "duration": 0.17714,
     "end_time": "2025-03-31T15:09:38.002432",
     "exception": false,
     "start_time": "2025-03-31T15:09:37.825292",
     "status": "completed"
    },
    "tags": []
   },
   "outputs": [],
   "source": [
    "from kaggle_secrets import UserSecretsClient\n",
    "\n",
    "GOOGLE_API_KEY = UserSecretsClient().get_secret(\"GOOGLE_API_KEY\")"
   ]
  },
  {
   "attachments": {
    "d2be9aab-2527-48af-b6cf-1f06cdd7c3a7.png": {
     "image/png": "[encoded data removed]"
    }
   },
   "cell_type": "markdown",
   "id": "96975f63",
   "metadata": {
    "id": "4e720472fd86",
    "papermill": {
     "duration": 0.013442,
     "end_time": "2025-03-31T15:09:38.029906",
     "exception": false,
     "start_time": "2025-03-31T15:09:38.016464",
     "status": "completed"
    },
    "tags": []
   },
   "source": [
    "If you received an error response along the lines of `No user secrets exist for kernel id ...`, then you need to add your API key via `Add-ons`, `Secrets` **and** enable it.\n",
    "\n",
    "![Screenshot of the checkbox to enable GOOGLE_API_KEY secret](https://storage.googleapis.com/kaggle-media/Images/5gdai_sc_3.png)"
   ]
  },
  {
   "cell_type": "markdown",
   "id": "e1047af3",
   "metadata": {
    "id": "H_YXCYIKvyZJ",
    "papermill": {
     "duration": 0.012821,
     "end_time": "2025-03-31T15:09:38.055853",
     "exception": false,
     "start_time": "2025-03-31T15:09:38.043032",
     "status": "completed"
    },
    "tags": []
   },
   "source": [
    "### Run your first prompt\n",
    "\n",
    "In this step, you will test that your API key is set up correctly by making a request.\n",
    "\n",
    "The Python SDK uses a [`Client` object](https://googleapis.github.io/python-genai/genai.html#genai.client.Client) to make requests to the API. The client lets you control which back-end to use (between the Gemini API and Vertex AI) and handles authentication (the API key).\n",
    "\n",
    "The `gemini-2.0-flash` model has been selected here.\n",
    "\n",
    "**Note**: If you see a `TransportError` on this step, you may need to **🔁 Factory reset** the notebook one time."
   ]
  },
  {
   "cell_type": "code",
   "execution_count": 8,
   "id": "a0791292",
   "metadata": {
    "execution": {
     "iopub.execute_input": "2025-03-31T15:09:38.084337Z",
     "iopub.status.busy": "2025-03-31T15:09:38.083919Z",
     "iopub.status.idle": "2025-03-31T15:09:40.352578Z",
     "shell.execute_reply": "2025-03-31T15:09:40.350991Z"
    },
    "id": "BV1o0PmcvyJF",
    "papermill": {
     "duration": 2.28684,
     "end_time": "2025-03-31T15:09:40.355895",
     "exception": false,
     "start_time": "2025-03-31T15:09:38.069055",
     "status": "completed"
    },
    "tags": []
   },
   "outputs": [
    {
     "name": "stdout",
     "output_type": "stream",
     "text": [
      "Imagine you have a really smart puppy, but it doesn't know anything when you first get it. That's kind of like a brand new AI!\n",
      "\n",
      "You need to teach the puppy lots of things, like \"sit,\" \"fetch,\" and \"stay.\"  You do that by showing the puppy what you want, giving it treats when it does the right thing, and correcting it when it does the wrong thing.\n",
      "\n",
      "AI is kind of the same!  Instead of treats, we give it lots of information, like pictures, words, or numbers.  Then, we tell it if it's doing a good job or not. \n",
      "\n",
      "For example, if we want to teach AI to recognize cats, we can show it millions of pictures of cats and tell it \"this is a cat.\"  If it sees a picture of a dog and thinks it's a cat, we tell it \"no, that's a dog!\"\n",
      "\n",
      "After seeing lots and lots of pictures, the AI learns to recognize cats all by itself.  It's like magic, but it's just lots and lots of practice!\n",
      "\n",
      "So, AI is like a really smart puppy that learns by seeing lots of examples and being told what is right and wrong.  It can then do things like recognize faces, write stories, or even play games! Pretty cool, right?\n",
      "\n"
     ]
    }
   ],
   "source": [
    "client = genai.Client(api_key=GOOGLE_API_KEY)\n",
    "\n",
    "response = client.models.generate_content(\n",
    "    model=\"gemini-2.0-flash\",\n",
    "    contents=\"Explain AI to me like I'm a kid.\")\n",
    "\n",
    "print(response.text)"
   ]
  },
  {
   "cell_type": "markdown",
   "id": "b13b2ece",
   "metadata": {
    "id": "f60ed9d8ae41",
    "papermill": {
     "duration": 0.01288,
     "end_time": "2025-03-31T15:09:40.382433",
     "exception": false,
     "start_time": "2025-03-31T15:09:40.369553",
     "status": "completed"
    },
    "tags": []
   },
   "source": [
    "The response often comes back in markdown format, which you can render directly in this notebook."
   ]
  },
  {
   "cell_type": "code",
   "execution_count": 9,
   "id": "1ad766ad",
   "metadata": {
    "execution": {
     "iopub.execute_input": "2025-03-31T15:09:40.410607Z",
     "iopub.status.busy": "2025-03-31T15:09:40.409491Z",
     "iopub.status.idle": "2025-03-31T15:09:40.418956Z",
     "shell.execute_reply": "2025-03-31T15:09:40.417720Z"
    },
    "id": "c933e5e460a5",
    "papermill": {
     "duration": 0.025881,
     "end_time": "2025-03-31T15:09:40.421082",
     "exception": false,
     "start_time": "2025-03-31T15:09:40.395201",
     "status": "completed"
    },
    "tags": []
   },
   "outputs": [
    {
     "data": {
      "text/markdown": [
       "Imagine you have a really smart puppy, but it doesn't know anything when you first get it. That's kind of like a brand new AI!\n",
       "\n",
       "You need to teach the puppy lots of things, like \"sit,\" \"fetch,\" and \"stay.\"  You do that by showing the puppy what you want, giving it treats when it does the right thing, and correcting it when it does the wrong thing.\n",
       "\n",
       "AI is kind of the same!  Instead of treats, we give it lots of information, like pictures, words, or numbers.  Then, we tell it if it's doing a good job or not. \n",
       "\n",
       "For example, if we want to teach AI to recognize cats, we can show it millions of pictures of cats and tell it \"this is a cat.\"  If it sees a picture of a dog and thinks it's a cat, we tell it \"no, that's a dog!\"\n",
       "\n",
       "After seeing lots and lots of pictures, the AI learns to recognize cats all by itself.  It's like magic, but it's just lots and lots of practice!\n",
       "\n",
       "So, AI is like a really smart puppy that learns by seeing lots of examples and being told what is right and wrong.  It can then do things like recognize faces, write stories, or even play games! Pretty cool, right?\n"
      ],
      "text/plain": [
       "<IPython.core.display.Markdown object>"
      ]
     },
     "execution_count": 9,
     "metadata": {},
     "output_type": "execute_result"
    }
   ],
   "source": [
    "Markdown(response.text)"
   ]
  },
  {
   "cell_type": "markdown",
   "id": "d9c4e519",
   "metadata": {
    "id": "byx0pT9ZMW2Q",
    "papermill": {
     "duration": 0.01292,
     "end_time": "2025-03-31T15:09:40.447426",
     "exception": false,
     "start_time": "2025-03-31T15:09:40.434506",
     "status": "completed"
    },
    "tags": []
   },
   "source": [
    "### Start a chat\n",
    "\n",
    "The previous example uses a single-turn, text-in/text-out structure, but you can also set up a multi-turn chat structure too."
   ]
  },
  {
   "cell_type": "code",
   "execution_count": 10,
   "id": "0d5f0d50",
   "metadata": {
    "execution": {
     "iopub.execute_input": "2025-03-31T15:09:40.476314Z",
     "iopub.status.busy": "2025-03-31T15:09:40.475825Z",
     "iopub.status.idle": "2025-03-31T15:09:40.983304Z",
     "shell.execute_reply": "2025-03-31T15:09:40.981917Z"
    },
    "id": "lV_S5ZL5MidD",
    "papermill": {
     "duration": 0.52512,
     "end_time": "2025-03-31T15:09:40.985876",
     "exception": false,
     "start_time": "2025-03-31T15:09:40.460756",
     "status": "completed"
    },
    "tags": []
   },
   "outputs": [
    {
     "name": "stdout",
     "output_type": "stream",
     "text": [
      "It's nice to meet you, Zlork! I'm happy to help you with whatever you need. What can I do for you today?\n",
      "\n"
     ]
    }
   ],
   "source": [
    "chat = client.chats.create(model='gemini-2.0-flash', history=[])\n",
    "response = chat.send_message('Hello! My name is Zlork.')\n",
    "print(response.text)"
   ]
  },
  {
   "cell_type": "code",
   "execution_count": 11,
   "id": "9d7eee79",
   "metadata": {
    "execution": {
     "iopub.execute_input": "2025-03-31T15:09:41.020522Z",
     "iopub.status.busy": "2025-03-31T15:09:41.020095Z",
     "iopub.status.idle": "2025-03-31T15:09:42.292829Z",
     "shell.execute_reply": "2025-03-31T15:09:42.291263Z"
    },
    "id": "7b0372c3c64a",
    "papermill": {
     "duration": 1.295284,
     "end_time": "2025-03-31T15:09:42.295695",
     "exception": false,
     "start_time": "2025-03-31T15:09:41.000411",
     "status": "completed"
    },
    "tags": []
   },
   "outputs": [
    {
     "name": "stdout",
     "output_type": "stream",
     "text": [
      "Okay, here's a fun and interesting fact about dinosaurs:\n",
      "\n",
      "**Did you know that birds are actually the direct descendants of a group of theropod dinosaurs?**\n",
      "\n",
      "Theropods were a group of mostly meat-eating dinosaurs that included famous dinosaurs like Tyrannosaurus Rex and Velociraptor. Over time, some smaller theropods developed feathers for insulation and display. As they continued to evolve, these feathers became useful for flight.  Through fossil evidence and skeletal similarities, scientists have found a strong evolutionary link between these dinosaurs and modern birds. So, technically, dinosaurs never truly went extinct; they just evolved into the birds we see today!\n",
      "\n",
      "Pretty cool, right? Let me know if you want to hear another dinosaur fact!\n",
      "\n"
     ]
    }
   ],
   "source": [
    "response = chat.send_message('Can you tell me something interesting about dinosaurs?')\n",
    "print(response.text)"
   ]
  },
  {
   "cell_type": "markdown",
   "id": "4eb5ab20",
   "metadata": {
    "papermill": {
     "duration": 0.012861,
     "end_time": "2025-03-31T15:09:42.322292",
     "exception": false,
     "start_time": "2025-03-31T15:09:42.309431",
     "status": "completed"
    },
    "tags": []
   },
   "source": [
    "While you have the `chat` object alive, the conversation state\n",
    "persists. Confirm that by asking if it knows the user's name."
   ]
  },
  {
   "cell_type": "code",
   "execution_count": 12,
   "id": "6f3b7c61",
   "metadata": {
    "execution": {
     "iopub.execute_input": "2025-03-31T15:09:42.351397Z",
     "iopub.status.busy": "2025-03-31T15:09:42.350119Z",
     "iopub.status.idle": "2025-03-31T15:09:42.795207Z",
     "shell.execute_reply": "2025-03-31T15:09:42.793746Z"
    },
    "id": "d3f9591392a7",
    "papermill": {
     "duration": 0.462544,
     "end_time": "2025-03-31T15:09:42.798019",
     "exception": false,
     "start_time": "2025-03-31T15:09:42.335475",
     "status": "completed"
    },
    "tags": []
   },
   "outputs": [
    {
     "name": "stdout",
     "output_type": "stream",
     "text": [
      "Yes, I do. Your name is Zlork.\n",
      "\n"
     ]
    }
   ],
   "source": [
    "response = chat.send_message('Do you remember what my name is?')\n",
    "print(response.text)"
   ]
  },
  {
   "cell_type": "markdown",
   "id": "20aa1b25",
   "metadata": {
    "id": "2KAjpr1200sW",
    "papermill": {
     "duration": 0.013286,
     "end_time": "2025-03-31T15:09:42.825211",
     "exception": false,
     "start_time": "2025-03-31T15:09:42.811925",
     "status": "completed"
    },
    "tags": []
   },
   "source": [
    "### Choose a model\n",
    "\n",
    "The Gemini API provides access to a number of models from the Gemini model family. Read about the available models and their capabilities on the [model overview page](https://ai.google.dev/gemini-api/docs/models/gemini).\n",
    "\n",
    "In this step you'll use the API to list all of the available models."
   ]
  },
  {
   "cell_type": "code",
   "execution_count": 13,
   "id": "88037285",
   "metadata": {
    "execution": {
     "iopub.execute_input": "2025-03-31T15:09:42.854931Z",
     "iopub.status.busy": "2025-03-31T15:09:42.853747Z",
     "iopub.status.idle": "2025-03-31T15:09:42.916693Z",
     "shell.execute_reply": "2025-03-31T15:09:42.915581Z"
    },
    "id": "uUUZa2uq2jDm",
    "papermill": {
     "duration": 0.080612,
     "end_time": "2025-03-31T15:09:42.919455",
     "exception": false,
     "start_time": "2025-03-31T15:09:42.838843",
     "status": "completed"
    },
    "tags": []
   },
   "outputs": [
    {
     "name": "stdout",
     "output_type": "stream",
     "text": [
      "models/chat-bison-001\n",
      "models/text-bison-001\n",
      "models/embedding-gecko-001\n",
      "models/gemini-1.0-pro-vision-latest\n",
      "models/gemini-pro-vision\n",
      "models/gemini-1.5-pro-latest\n",
      "models/gemini-1.5-pro-001\n",
      "models/gemini-1.5-pro-002\n",
      "models/gemini-1.5-pro\n",
      "models/gemini-1.5-flash-latest\n",
      "models/gemini-1.5-flash-001\n",
      "models/gemini-1.5-flash-001-tuning\n",
      "models/gemini-1.5-flash\n",
      "models/gemini-1.5-flash-002\n",
      "models/gemini-1.5-flash-8b\n",
      "models/gemini-1.5-flash-8b-001\n",
      "models/gemini-1.5-flash-8b-latest\n",
      "models/gemini-1.5-flash-8b-exp-0827\n",
      "models/gemini-1.5-flash-8b-exp-0924\n",
      "models/gemini-2.5-pro-exp-03-25\n",
      "models/gemini-2.0-flash-exp\n",
      "models/gemini-2.0-flash\n",
      "models/gemini-2.0-flash-001\n",
      "models/gemini-2.0-flash-exp-image-generation\n",
      "models/gemini-2.0-flash-lite-001\n",
      "models/gemini-2.0-flash-lite\n",
      "models/gemini-2.0-flash-lite-preview-02-05\n",
      "models/gemini-2.0-flash-lite-preview\n",
      "models/gemini-2.0-pro-exp\n",
      "models/gemini-2.0-pro-exp-02-05\n",
      "models/gemini-exp-1206\n",
      "models/gemini-2.0-flash-thinking-exp-01-21\n",
      "models/gemini-2.0-flash-thinking-exp\n",
      "models/gemini-2.0-flash-thinking-exp-1219\n",
      "models/learnlm-1.5-pro-experimental\n",
      "models/gemma-3-27b-it\n",
      "models/embedding-001\n",
      "models/text-embedding-004\n",
      "models/gemini-embedding-exp-03-07\n",
      "models/gemini-embedding-exp\n",
      "models/aqa\n",
      "models/imagen-3.0-generate-002\n"
     ]
    }
   ],
   "source": [
    "for model in client.models.list():\n",
    "  print(model.name)"
   ]
  },
  {
   "cell_type": "markdown",
   "id": "f9f287ff",
   "metadata": {
    "id": "rN49kSI54R1v",
    "papermill": {
     "duration": 0.013483,
     "end_time": "2025-03-31T15:09:42.946734",
     "exception": false,
     "start_time": "2025-03-31T15:09:42.933251",
     "status": "completed"
    },
    "tags": []
   },
   "source": [
    "The [`models.list`](https://ai.google.dev/api/models#method:-models.list) response also returns additional information about the model's capabilities, like the token limits and supported parameters."
   ]
  },
  {
   "cell_type": "code",
   "execution_count": 14,
   "id": "e4df412a",
   "metadata": {
    "execution": {
     "iopub.execute_input": "2025-03-31T15:09:42.976228Z",
     "iopub.status.busy": "2025-03-31T15:09:42.975770Z",
     "iopub.status.idle": "2025-03-31T15:09:43.127093Z",
     "shell.execute_reply": "2025-03-31T15:09:43.125790Z"
    },
    "id": "k7JJ1K6j4Rl8",
    "papermill": {
     "duration": 0.169413,
     "end_time": "2025-03-31T15:09:43.129594",
     "exception": false,
     "start_time": "2025-03-31T15:09:42.960181",
     "status": "completed"
    },
    "tags": []
   },
   "outputs": [
    {
     "name": "stdout",
     "output_type": "stream",
     "text": [
      "{'description': 'Gemini 2.0 Flash',\n",
      " 'display_name': 'Gemini 2.0 Flash',\n",
      " 'input_token_limit': 1048576,\n",
      " 'name': 'models/gemini-2.0-flash',\n",
      " 'output_token_limit': 8192,\n",
      " 'supported_actions': ['generateContent', 'countTokens'],\n",
      " 'tuned_model_info': {},\n",
      " 'version': '2.0'}\n"
     ]
    }
   ],
   "source": [
    "from pprint import pprint\n",
    "\n",
    "for model in client.models.list():\n",
    "  if model.name == 'models/gemini-2.0-flash':\n",
    "    pprint(model.to_json_dict())\n",
    "    break"
   ]
  },
  {
   "cell_type": "markdown",
   "id": "0e952dcf",
   "metadata": {
    "id": "5rU_UBlZdooM",
    "papermill": {
     "duration": 0.013771,
     "end_time": "2025-03-31T15:09:43.157246",
     "exception": false,
     "start_time": "2025-03-31T15:09:43.143475",
     "status": "completed"
    },
    "tags": []
   },
   "source": [
    "## Explore generation parameters\n",
    "\n"
   ]
  },
  {
   "cell_type": "markdown",
   "id": "bc8d4585",
   "metadata": {
    "id": "G7NfEizeipbW",
    "papermill": {
     "duration": 0.013773,
     "end_time": "2025-03-31T15:09:43.185105",
     "exception": false,
     "start_time": "2025-03-31T15:09:43.171332",
     "status": "completed"
    },
    "tags": []
   },
   "source": [
    "### Output length\n",
    "\n",
    "When generating text with an LLM, the output length affects cost and performance. Generating more tokens increases computation, leading to higher energy consumption, latency, and cost.\n",
    "\n",
    "To stop the model from generating tokens past a limit, you can specify the `max_output_tokens` parameter when using the Gemini API. Specifying this parameter does not influence the generation of the output tokens, so the output will not become more stylistically or textually succinct, but it will stop generating tokens once the specified length is reached. Prompt engineering may be required to generate a more complete output for your given limit."
   ]
  },
  {
   "cell_type": "code",
   "execution_count": 15,
   "id": "96c5ac8a",
   "metadata": {
    "execution": {
     "iopub.execute_input": "2025-03-31T15:09:43.215316Z",
     "iopub.status.busy": "2025-03-31T15:09:43.214913Z",
     "iopub.status.idle": "2025-03-31T15:09:44.697068Z",
     "shell.execute_reply": "2025-03-31T15:09:44.695603Z"
    },
    "id": "qVf23JsIi9ma",
    "papermill": {
     "duration": 1.500893,
     "end_time": "2025-03-31T15:09:44.700189",
     "exception": false,
     "start_time": "2025-03-31T15:09:43.199296",
     "status": "completed"
    },
    "tags": []
   },
   "outputs": [
    {
     "name": "stdout",
     "output_type": "stream",
     "text": [
      "## The Enduring Significance of the Olive: A Cornerstone of Modern Society\n",
      "\n",
      "The humble olive, that small, glistening fruit of the *Olea europaea* tree, far transcends its diminutive size. From ancient civilizations to the bustling kitchens of the modern world, the olive and its derivatives have played an integral role in shaping economies, cultures, and even our health. Its importance in modern society, while perhaps less immediately apparent than that of more ubiquitous commodities, is profound and multifaceted, woven into the fabric of our food systems, economies, and understanding of wellness.\n",
      "\n",
      "One of the most significant contributions of the olive lies in its nutritional value and its pivotal role in the Mediterranean diet. Olive oil, extracted from the fruit, is a cornerstone of this renowned dietary pattern, prized for its rich concentration of monounsaturated fatty acids, particularly oleic acid. These fats are associated with a lower risk of heart disease, stroke, and certain types of cancer. In a world grappling with rising rates of cardiovascular disease\n"
     ]
    }
   ],
   "source": [
    "from google.genai import types\n",
    "\n",
    "short_config = types.GenerateContentConfig(max_output_tokens=200)\n",
    "\n",
    "response = client.models.generate_content(\n",
    "    model='gemini-2.0-flash',\n",
    "    config=short_config,\n",
    "    contents='Write a 1000 word essay on the importance of olives in modern society.')\n",
    "\n",
    "print(response.text)"
   ]
  },
  {
   "cell_type": "code",
   "execution_count": 16,
   "id": "be2de498",
   "metadata": {
    "execution": {
     "iopub.execute_input": "2025-03-31T15:09:44.731264Z",
     "iopub.status.busy": "2025-03-31T15:09:44.730854Z",
     "iopub.status.idle": "2025-03-31T15:09:45.856359Z",
     "shell.execute_reply": "2025-03-31T15:09:45.854900Z"
    },
    "id": "W-3kR2F5kdMR",
    "papermill": {
     "duration": 1.143973,
     "end_time": "2025-03-31T15:09:45.859131",
     "exception": false,
     "start_time": "2025-03-31T15:09:44.715158",
     "status": "completed"
    },
    "tags": []
   },
   "outputs": [
    {
     "name": "stdout",
     "output_type": "stream",
     "text": [
      "From groves sun-kissed, a silver sheen,\n",
      "The olive falls, a humble queen.\n",
      "Pressed to oil, a liquid gold,\n",
      "A flavor story to unfold.\n",
      "\n",
      "In salads bright, on pizzas grand,\n",
      "A Mediterranean helping hand.\n",
      "From tapenade to martinis stirred,\n",
      "The olive's presence, keenly heard.\n",
      "\n",
      "A symbol ancient, peace it brings,\n",
      "A taste of sunshine, sweetly sings.\n",
      "So raise a glass, and let us praise,\n",
      "The humble olive, in countless ways.\n",
      "\n"
     ]
    }
   ],
   "source": [
    "response = client.models.generate_content(\n",
    "    model='gemini-2.0-flash',\n",
    "    config=short_config,\n",
    "    contents='Write a short poem on the importance of olives in modern society.')\n",
    "\n",
    "print(response.text)"
   ]
  },
  {
   "cell_type": "markdown",
   "id": "fd37e56b",
   "metadata": {
    "id": "3ZhDSLB6lqqB",
    "papermill": {
     "duration": 0.013374,
     "end_time": "2025-03-31T15:09:45.887541",
     "exception": false,
     "start_time": "2025-03-31T15:09:45.874167",
     "status": "completed"
    },
    "tags": []
   },
   "source": [
    "Explore with your own prompts. Try a prompt with a restrictive output limit and then adjust the prompt to work within that limit."
   ]
  },
  {
   "cell_type": "code",
   "execution_count": 17,
   "id": "0aabfd1d",
   "metadata": {
    "execution": {
     "iopub.execute_input": "2025-03-31T15:09:45.917821Z",
     "iopub.status.busy": "2025-03-31T15:09:45.916721Z",
     "iopub.status.idle": "2025-03-31T15:09:47.377358Z",
     "shell.execute_reply": "2025-03-31T15:09:47.376052Z"
    },
    "papermill": {
     "duration": 1.478303,
     "end_time": "2025-03-31T15:09:47.379764",
     "exception": false,
     "start_time": "2025-03-31T15:09:45.901461",
     "status": "completed"
    },
    "tags": []
   },
   "outputs": [
    {
     "data": {
      "text/markdown": [
       "Okay, here's a tabular comparison of Econometrics and Statistics, highlighting their key differences and similarities:\n",
       "\n",
       "| Feature             | Econometrics                                    | Statistics                                           |\n",
       "|----------------------|--------------------------------------------------|-------------------------------------------------------|\n",
       "| **Primary Focus**   | Applying statistical methods to economic data to test and quantify economic theories, forecast economic trends, and evaluate policy interventions. | Developing and studying methods for collecting, analyzing, interpreting, and presenting data.  Focuses on general principles of inference and data analysis. |\n",
       "| **Data Characteristics** | Typically observational, non-experimental, often messy, and subject to endogeneity and simultaneity. Economic data often violates standard statistical assumptions. | Can deal with both experimental and observational data.  Often assumes data meets certain assumptions for validity (e.g., independence, normality). |\n",
       "| **Emphasis on Causality** | Strong emphasis on establishing causal relationships and understanding the direction of influence between economic variables. Actively seeks"
      ],
      "text/plain": [
       "<IPython.core.display.Markdown object>"
      ]
     },
     "execution_count": 17,
     "metadata": {},
     "output_type": "execute_result"
    }
   ],
   "source": [
    "response = client.models.generate_content(\n",
    "    model='gemini-2.0-flash',\n",
    "    config=short_config,\n",
    "    contents='Compare Econometrics and Statistics, create a tabular comparison.')\n",
    "\n",
    "Markdown(response.text)"
   ]
  },
  {
   "cell_type": "markdown",
   "id": "931b99c9",
   "metadata": {
    "id": "alx-WaAvir_9",
    "papermill": {
     "duration": 0.013859,
     "end_time": "2025-03-31T15:09:47.407871",
     "exception": false,
     "start_time": "2025-03-31T15:09:47.394012",
     "status": "completed"
    },
    "tags": []
   },
   "source": [
    "### Temperature\n",
    "\n",
    "Temperature controls the degree of randomness in token selection. Higher temperatures result in a higher number of candidate tokens from which the next output token is selected, and can produce more diverse results, while lower temperatures have the opposite effect, such that a temperature of 0 results in greedy decoding, selecting the most probable token at each step.\n",
    "\n",
    "Temperature doesn't provide any guarantees of randomness, but it can be used to \"nudge\" the output somewhat."
   ]
  },
  {
   "cell_type": "code",
   "execution_count": 18,
   "id": "026c6d75",
   "metadata": {
    "execution": {
     "iopub.execute_input": "2025-03-31T15:09:47.438722Z",
     "iopub.status.busy": "2025-03-31T15:09:47.438251Z",
     "iopub.status.idle": "2025-03-31T15:09:49.296111Z",
     "shell.execute_reply": "2025-03-31T15:09:49.294714Z"
    },
    "id": "SHraGMzqnZqt",
    "papermill": {
     "duration": 1.877049,
     "end_time": "2025-03-31T15:09:49.299246",
     "exception": false,
     "start_time": "2025-03-31T15:09:47.422197",
     "status": "completed"
    },
    "tags": []
   },
   "outputs": [
    {
     "name": "stdout",
     "output_type": "stream",
     "text": [
      "Orange\n",
      " -------------------------\n",
      "Turquoise\n",
      " -------------------------\n",
      "Magenta\n",
      " -------------------------\n",
      "Orange\n",
      " -------------------------\n",
      "Azure\n",
      " -------------------------\n"
     ]
    }
   ],
   "source": [
    "high_temp_config = types.GenerateContentConfig(temperature=2.0)\n",
    "\n",
    "\n",
    "for _ in range(5):\n",
    "  response = client.models.generate_content(\n",
    "      model='gemini-2.0-flash',\n",
    "      config=high_temp_config,\n",
    "      contents='Pick a random colour... (respond in a single word)')\n",
    "\n",
    "  if response.text:\n",
    "    print(response.text, '-' * 25)"
   ]
  },
  {
   "cell_type": "markdown",
   "id": "2df7aa9a",
   "metadata": {
    "id": "z3J4pCTuof7e",
    "papermill": {
     "duration": 0.01454,
     "end_time": "2025-03-31T15:09:49.329428",
     "exception": false,
     "start_time": "2025-03-31T15:09:49.314888",
     "status": "completed"
    },
    "tags": []
   },
   "source": [
    "Now try the same prompt with temperature set to zero. Note that the output is not completely deterministic, as other parameters affect token selection, but the results will tend to be more stable."
   ]
  },
  {
   "cell_type": "code",
   "execution_count": 19,
   "id": "eca18443",
   "metadata": {
    "execution": {
     "iopub.execute_input": "2025-03-31T15:09:49.362089Z",
     "iopub.status.busy": "2025-03-31T15:09:49.361234Z",
     "iopub.status.idle": "2025-03-31T15:10:38.356563Z",
     "shell.execute_reply": "2025-03-31T15:10:38.355325Z"
    },
    "id": "clymkWv-PfUZ",
    "papermill": {
     "duration": 49.02879,
     "end_time": "2025-03-31T15:10:38.373936",
     "exception": false,
     "start_time": "2025-03-31T15:09:49.345146",
     "status": "completed"
    },
    "tags": []
   },
   "outputs": [
    {
     "name": "stdout",
     "output_type": "stream",
     "text": [
      "Azure\n",
      " -------------------------\n",
      "Magenta\n",
      " -------------------------\n",
      "Turquoise\n",
      " -------------------------\n",
      "Turquoise\n",
      " -------------------------\n",
      "Turquoise\n",
      " -------------------------\n"
     ]
    }
   ],
   "source": [
    "low_temp_config = types.GenerateContentConfig(temperature=2.0)\n",
    "\n",
    "for _ in range(5):\n",
    "  response = client.models.generate_content(\n",
    "      model='gemini-2.0-flash',\n",
    "      config=low_temp_config,\n",
    "      contents='Pick a random colour... (respond in a single word)')\n",
    "\n",
    "  if response.text:\n",
    "    print(response.text, '-' * 25)"
   ]
  },
  {
   "cell_type": "markdown",
   "id": "9f43f54e",
   "metadata": {
    "id": "St5nt3vzitsZ",
    "papermill": {
     "duration": 0.014257,
     "end_time": "2025-03-31T15:10:38.402914",
     "exception": false,
     "start_time": "2025-03-31T15:10:38.388657",
     "status": "completed"
    },
    "tags": []
   },
   "source": [
    "### Top-P\n",
    "\n",
    "Like temperature, the top-P parameter is also used to control the diversity of the model's output.\n",
    "\n",
    "Top-P defines the probability threshold that, once cumulatively exceeded, tokens stop being selected as candidates. A top-P of 0 is typically equivalent to greedy decoding, and a top-P of 1 typically selects every token in the model's vocabulary.\n",
    "\n",
    "You may also see top-K referenced in LLM literature. Top-K is not configurable in the Gemini 2.0 series of models, but can be changed in older models. Top-K is a positive integer that defines the number of most probable tokens from which to select the output token. A top-K of 1 selects a single token, performing greedy decoding.\n",
    "\n",
    "\n",
    "Run this example a number of times, change the settings and observe the change in output."
   ]
  },
  {
   "cell_type": "code",
   "execution_count": 20,
   "id": "3538d1b7",
   "metadata": {
    "execution": {
     "iopub.execute_input": "2025-03-31T15:10:38.434410Z",
     "iopub.status.busy": "2025-03-31T15:10:38.433959Z",
     "iopub.status.idle": "2025-03-31T15:10:43.152175Z",
     "shell.execute_reply": "2025-03-31T15:10:43.151051Z"
    },
    "id": "lPlzpEavUV8F",
    "papermill": {
     "duration": 4.737766,
     "end_time": "2025-03-31T15:10:43.155270",
     "exception": false,
     "start_time": "2025-03-31T15:10:38.417504",
     "status": "completed"
    },
    "tags": []
   },
   "outputs": [
    {
     "name": "stdout",
     "output_type": "stream",
     "text": [
      "Jasper wasn't your typical tabby. While his siblings chased dust bunnies and napped in sunbeams, Jasper dreamt of faraway lands. His world consisted of the beige carpet of his human's apartment, the occasional daring foray onto the balcony, and the tantalizing scents that drifted from the open window – spices, rain, and something wild he couldn't quite place.\n",
      "\n",
      "One day, the \"wild\" scent was overpowering. It smelled of damp earth, decaying leaves, and…freedom. The window, usually latched, was ajar. A sliver of opportunity. Jasper, fueled by months of simmering wanderlust, squeezed through.\n",
      "\n",
      "He landed with a soft thud on the fire escape, a dizzying metal staircase snaking down the building's brick face. The city roared below, a symphony of honking cars and chattering voices. Fear pricked at him, but the wild scent beckoned, stronger than ever.\n",
      "\n",
      "He crept down the steps, his paws silent on the metal. Reaching the ground, he slipped into a narrow alleyway, a labyrinth of overflowing bins and discarded cardboard boxes. This wasn't the pristine apartment, but it was real. It was adventure.\n",
      "\n",
      "The alley led him to a bustling marketplace, a cacophony of sights and smells. Vendors hawked fragrant spices, fishmongers displayed their shimmering wares, and children chased pigeons through the throng. Jasper, small and unnoticed, weaved through the crowd, his whiskers twitching, absorbing everything.\n",
      "\n",
      "He followed the wild scent to a park on the edge of the market. Here, the city sounds softened, replaced by the rustling of leaves and the chirping of birds. Towering trees cast dappled shadows on the ground, and squirrels darted amongst the roots. This was it. This was the source of the scent.\n",
      "\n",
      "He explored with gusto. He stalked a plump robin (unsuccessfully), chased butterflies with shimmering wings, and discovered the sheer joy of burying his nose in a patch of soft moss. He even befriended a grumpy old ginger tomcat named Rusty, who regaled him with tales of territorial battles and daring raids on picnic baskets.\n",
      "\n",
      "As dusk painted the sky in hues of orange and purple, a wave of homesickness washed over Jasper. The unfamiliar scents, the exciting chases, the tall tales – it was all thrilling, but he missed the soft warmth of his human's lap, the comforting rhythm of his purrs against her chest.\n",
      "\n",
      "He followed the sounds of the city, retracing his steps back through the market and alley. Reaching the fire escape, he cautiously climbed back up, finding the window exactly as he'd left it. He slipped inside, instantly enveloped by the familiar scent of home.\n",
      "\n",
      "His human, a kind woman with gentle eyes, was sitting on the couch, reading. She looked up, her face breaking into a wide smile. \"Jasper! Where have you been, little adventurer?\"\n",
      "\n",
      "She scooped him into her arms, burying her face in his fur. Jasper purred, a deep, rumbling sound of contentment. He didn't tell her about the market, the park, or Rusty the ginger tomcat. He didn't need to.\n",
      "\n",
      "He had his adventure. And he had his home. He knew, with a certainty that settled deep in his feline heart, that the world was vast and exciting, but nothing could compare to the warmth and security of the beige carpet, the sunbeams, and the unwavering love of his human. He was still Jasper, the tabby who dreamt of faraway lands. But now, he was also Jasper, the adventurer who had come home. And that, he realized, was the best adventure of all.\n",
      "\n"
     ]
    }
   ],
   "source": [
    "model_config = types.GenerateContentConfig(\n",
    "    # These are the default values for gemini-2.0-flash.\n",
    "    temperature=1.0,\n",
    "    top_p=0.95,\n",
    ")\n",
    "\n",
    "story_prompt = \"You are a creative writer. Write a short story about a cat who goes on an adventure.\"\n",
    "response = client.models.generate_content(\n",
    "    model='gemini-2.0-flash',\n",
    "    config=model_config,\n",
    "    contents=story_prompt)\n",
    "\n",
    "print(response.text)"
   ]
  },
  {
   "cell_type": "markdown",
   "id": "fc510c1c",
   "metadata": {
    "id": "rMrYs1koY6DX",
    "papermill": {
     "duration": 0.014056,
     "end_time": "2025-03-31T15:10:43.184010",
     "exception": false,
     "start_time": "2025-03-31T15:10:43.169954",
     "status": "completed"
    },
    "tags": []
   },
   "source": [
    "## Prompting\n",
    "\n",
    "This section contains some prompts from the chapter for you to try out directly in the API. Try changing the text here to see how each prompt performs with different instructions, more examples, or any other changes you can think of."
   ]
  },
  {
   "cell_type": "markdown",
   "id": "863d801e",
   "metadata": {
    "id": "hhj_tQidZJP7",
    "papermill": {
     "duration": 0.016243,
     "end_time": "2025-03-31T15:10:43.214449",
     "exception": false,
     "start_time": "2025-03-31T15:10:43.198206",
     "status": "completed"
    },
    "tags": []
   },
   "source": [
    "### Zero-shot\n",
    "\n",
    "Zero-shot prompts are prompts that describe the request for the model directly.\n",
    "\n",
    "<table align=left>\n",
    "  <td>\n",
    "    <a target=\"_blank\" href=\"https://aistudio.google.com/prompts/1gzKKgDHwkAvexG5Up0LMtl1-6jKMKe4g\"><img src=\"https://ai.google.dev/site-assets/images/marketing/home/icon-ais.png\" style=\"height: 24px\" height=24/> Open in AI Studio</a>\n",
    "  </td>\n",
    "</table>"
   ]
  },
  {
   "cell_type": "code",
   "execution_count": 21,
   "id": "81472915",
   "metadata": {
    "execution": {
     "iopub.execute_input": "2025-03-31T15:10:43.246899Z",
     "iopub.status.busy": "2025-03-31T15:10:43.245562Z",
     "iopub.status.idle": "2025-03-31T15:10:43.606830Z",
     "shell.execute_reply": "2025-03-31T15:10:43.605274Z"
    },
    "id": "1_t-cwnDZzbH",
    "papermill": {
     "duration": 0.380496,
     "end_time": "2025-03-31T15:10:43.609448",
     "exception": false,
     "start_time": "2025-03-31T15:10:43.228952",
     "status": "completed"
    },
    "tags": []
   },
   "outputs": [
    {
     "name": "stdout",
     "output_type": "stream",
     "text": [
      "POSITIVE\n",
      "\n"
     ]
    }
   ],
   "source": [
    "model_config = types.GenerateContentConfig(\n",
    "    temperature=0.1,\n",
    "    top_p=1,\n",
    "    max_output_tokens=5,\n",
    ")\n",
    "\n",
    "zero_shot_prompt = \"\"\"Classify movie reviews as POSITIVE, NEUTRAL or NEGATIVE.\n",
    "Review: \"Her\" is a disturbing study revealing the direction\n",
    "humanity is headed if AI is allowed to keep evolving,\n",
    "unchecked. I wish there were more movies like this masterpiece.\n",
    "Sentiment: \"\"\"\n",
    "\n",
    "response = client.models.generate_content(\n",
    "    model='gemini-2.0-flash',\n",
    "    config=model_config,\n",
    "    contents=zero_shot_prompt)\n",
    "\n",
    "print(response.text)"
   ]
  },
  {
   "cell_type": "markdown",
   "id": "48a2fdf8",
   "metadata": {
    "id": "3b5568bdeb11",
    "papermill": {
     "duration": 0.014871,
     "end_time": "2025-03-31T15:10:43.639842",
     "exception": false,
     "start_time": "2025-03-31T15:10:43.624971",
     "status": "completed"
    },
    "tags": []
   },
   "source": [
    "#### Enum mode\n",
    "\n",
    "The models are trained to generate text, and while the Gemini 2.0 models are great at following instructions, other models can sometimes produce more text than you may wish for. In the preceding example, the model will output the label, but sometimes it can include a preceding \"Sentiment\" label, and without an output token limit, it may also add explanatory text afterwards. See [this prompt in AI Studio](https://aistudio.google.com/prompts/1gzKKgDHwkAvexG5Up0LMtl1-6jKMKe4g) for an example.\n",
    "\n",
    "The Gemini API has an [Enum mode](https://github.com/google-gemini/cookbook/blob/main/quickstarts/Enum.ipynb) feature that allows you to constrain the output to a fixed set of values."
   ]
  },
  {
   "cell_type": "code",
   "execution_count": 22,
   "id": "ae2a2d9a",
   "metadata": {
    "execution": {
     "iopub.execute_input": "2025-03-31T15:10:43.671072Z",
     "iopub.status.busy": "2025-03-31T15:10:43.670020Z",
     "iopub.status.idle": "2025-03-31T15:10:44.085934Z",
     "shell.execute_reply": "2025-03-31T15:10:44.084547Z"
    },
    "id": "ad118a56c598",
    "papermill": {
     "duration": 0.434454,
     "end_time": "2025-03-31T15:10:44.088665",
     "exception": false,
     "start_time": "2025-03-31T15:10:43.654211",
     "status": "completed"
    },
    "tags": []
   },
   "outputs": [
    {
     "name": "stdout",
     "output_type": "stream",
     "text": [
      "positive\n"
     ]
    }
   ],
   "source": [
    "import enum\n",
    "\n",
    "class Sentiment(enum.Enum):\n",
    "    POSITIVE = \"positive\"\n",
    "    NEUTRAL = \"neutral\"\n",
    "    NEGATIVE = \"negative\"\n",
    "\n",
    "\n",
    "response = client.models.generate_content(\n",
    "    model='gemini-2.0-flash',\n",
    "    config=types.GenerateContentConfig(\n",
    "        response_mime_type=\"text/x.enum\",\n",
    "        response_schema=Sentiment\n",
    "    ),\n",
    "    contents=zero_shot_prompt)\n",
    "\n",
    "print(response.text)"
   ]
  },
  {
   "cell_type": "markdown",
   "id": "3305059c",
   "metadata": {
    "papermill": {
     "duration": 0.014983,
     "end_time": "2025-03-31T15:10:44.118372",
     "exception": false,
     "start_time": "2025-03-31T15:10:44.103389",
     "status": "completed"
    },
    "tags": []
   },
   "source": [
    "When using constrained output like an enum, the Python SDK will attempt to convert the model's text response into a Python object automatically. It's stored in the `response.parsed` field."
   ]
  },
  {
   "cell_type": "code",
   "execution_count": 23,
   "id": "ef81acf2",
   "metadata": {
    "execution": {
     "iopub.execute_input": "2025-03-31T15:10:44.150092Z",
     "iopub.status.busy": "2025-03-31T15:10:44.149083Z",
     "iopub.status.idle": "2025-03-31T15:10:44.155744Z",
     "shell.execute_reply": "2025-03-31T15:10:44.154438Z"
    },
    "papermill": {
     "duration": 0.02492,
     "end_time": "2025-03-31T15:10:44.157929",
     "exception": false,
     "start_time": "2025-03-31T15:10:44.133009",
     "status": "completed"
    },
    "tags": []
   },
   "outputs": [
    {
     "name": "stdout",
     "output_type": "stream",
     "text": [
      "Sentiment.POSITIVE\n",
      "<enum 'Sentiment'>\n"
     ]
    }
   ],
   "source": [
    "enum_response = response.parsed\n",
    "print(enum_response)\n",
    "print(type(enum_response))"
   ]
  },
  {
   "cell_type": "markdown",
   "id": "91de2ca1",
   "metadata": {
    "id": "0udiSwNbv45W",
    "papermill": {
     "duration": 0.014425,
     "end_time": "2025-03-31T15:10:44.187023",
     "exception": false,
     "start_time": "2025-03-31T15:10:44.172598",
     "status": "completed"
    },
    "tags": []
   },
   "source": [
    "### One-shot and few-shot\n",
    "\n",
    "Providing an example of the expected response is known as a \"one-shot\" prompt. When you provide multiple examples, it is a \"few-shot\" prompt.\n",
    "\n",
    "<table align=left>\n",
    "  <td>\n",
    "    <a target=\"_blank\" href=\"https://aistudio.google.com/prompts/1jjWkjUSoMXmLvMJ7IzADr_GxHPJVV2bg\"><img src=\"https://ai.google.dev/site-assets/images/marketing/home/icon-ais.png\" style=\"height: 24px\" height=24/> Open in AI Studio</a>\n",
    "  </td>\n",
    "</table>\n"
   ]
  },
  {
   "cell_type": "code",
   "execution_count": 24,
   "id": "1bccbc60",
   "metadata": {
    "execution": {
     "iopub.execute_input": "2025-03-31T15:10:44.221877Z",
     "iopub.status.busy": "2025-03-31T15:10:44.221432Z",
     "iopub.status.idle": "2025-03-31T15:10:44.675729Z",
     "shell.execute_reply": "2025-03-31T15:10:44.674363Z"
    },
    "id": "hd4mVUukwOKZ",
    "papermill": {
     "duration": 0.475667,
     "end_time": "2025-03-31T15:10:44.678234",
     "exception": false,
     "start_time": "2025-03-31T15:10:44.202567",
     "status": "completed"
    },
    "tags": []
   },
   "outputs": [
    {
     "name": "stdout",
     "output_type": "stream",
     "text": [
      "```json\n",
      "{\n",
      "\"size\": \"large\",\n",
      "\"type\": \"normal\",\n",
      "\"ingredients\": [\"cheese\", \"pineapple\"]\n",
      "}\n",
      "```\n",
      "\n"
     ]
    }
   ],
   "source": [
    "few_shot_prompt = \"\"\"Parse a customer's pizza order into valid JSON:\n",
    "\n",
    "EXAMPLE:\n",
    "I want a small pizza with cheese, tomato sauce, and pepperoni.\n",
    "JSON Response:\n",
    "```\n",
    "{\n",
    "\"size\": \"small\",\n",
    "\"type\": \"normal\",\n",
    "\"ingredients\": [\"cheese\", \"tomato sauce\", \"pepperoni\"]\n",
    "}\n",
    "```\n",
    "\n",
    "EXAMPLE:\n",
    "Can I get a large pizza with tomato sauce, basil and mozzarella\n",
    "JSON Response:\n",
    "```\n",
    "{\n",
    "\"size\": \"large\",\n",
    "\"type\": \"normal\",\n",
    "\"ingredients\": [\"tomato sauce\", \"basil\", \"mozzarella\"]\n",
    "}\n",
    "```\n",
    "\n",
    "ORDER:\n",
    "\"\"\"\n",
    "\n",
    "customer_order = \"Give me a large with cheese & pineapple\"\n",
    "\n",
    "response = client.models.generate_content(\n",
    "    model='gemini-2.0-flash',\n",
    "    config=types.GenerateContentConfig(\n",
    "        temperature=0.1,\n",
    "        top_p=1,\n",
    "        max_output_tokens=250,\n",
    "    ),\n",
    "    contents=[few_shot_prompt, customer_order])\n",
    "\n",
    "print(response.text)"
   ]
  },
  {
   "cell_type": "markdown",
   "id": "67349108",
   "metadata": {
    "id": "021293096f08",
    "papermill": {
     "duration": 0.014537,
     "end_time": "2025-03-31T15:10:44.707492",
     "exception": false,
     "start_time": "2025-03-31T15:10:44.692955",
     "status": "completed"
    },
    "tags": []
   },
   "source": [
    "#### JSON mode\n",
    "\n",
    "To provide control over the schema, and to ensure that you only receive JSON (with no other text or markdown), you can use the Gemini API's [JSON mode](https://github.com/google-gemini/cookbook/blob/main/quickstarts/JSON_mode.ipynb). This forces the model to constrain decoding, such that token selection is guided by the supplied schema."
   ]
  },
  {
   "cell_type": "code",
   "execution_count": 25,
   "id": "ab8b8ff9",
   "metadata": {
    "execution": {
     "iopub.execute_input": "2025-03-31T15:10:44.738382Z",
     "iopub.status.busy": "2025-03-31T15:10:44.737983Z",
     "iopub.status.idle": "2025-03-31T15:10:45.324296Z",
     "shell.execute_reply": "2025-03-31T15:10:45.323030Z"
    },
    "id": "50fbf0260912",
    "papermill": {
     "duration": 0.604754,
     "end_time": "2025-03-31T15:10:45.326750",
     "exception": false,
     "start_time": "2025-03-31T15:10:44.721996",
     "status": "completed"
    },
    "tags": []
   },
   "outputs": [
    {
     "name": "stdout",
     "output_type": "stream",
     "text": [
      "{\n",
      "  \"size\": \"large\",\n",
      "  \"ingredients\": [\"apple\", \"chocolate\"],\n",
      "  \"type\": \"dessert\"\n",
      "}\n"
     ]
    }
   ],
   "source": [
    "import typing_extensions as typing\n",
    "\n",
    "class PizzaOrder(typing.TypedDict):\n",
    "    size: str\n",
    "    ingredients: list[str]\n",
    "    type: str\n",
    "\n",
    "\n",
    "response = client.models.generate_content(\n",
    "    model='gemini-2.0-flash',\n",
    "    config=types.GenerateContentConfig(\n",
    "        temperature=0.1,\n",
    "        response_mime_type=\"application/json\",\n",
    "        response_schema=PizzaOrder,\n",
    "    ),\n",
    "    contents=\"Can I have a large dessert pizza with apple and chocolate\")\n",
    "\n",
    "print(response.text)"
   ]
  },
  {
   "cell_type": "markdown",
   "id": "7a50aac8",
   "metadata": {
    "id": "4a93e338e57c",
    "papermill": {
     "duration": 0.015014,
     "end_time": "2025-03-31T15:10:45.356917",
     "exception": false,
     "start_time": "2025-03-31T15:10:45.341903",
     "status": "completed"
    },
    "tags": []
   },
   "source": [
    "### Chain of Thought (CoT)\n",
    "\n",
    "Direct prompting on LLMs can return answers quickly and (in terms of output token usage) efficiently, but they can be prone to hallucination. The answer may \"look\" correct (in terms of language and syntax) but is incorrect in terms of factuality and reasoning.\n",
    "\n",
    "Chain-of-Thought prompting is a technique where you instruct the model to output intermediate reasoning steps, and it typically gets better results, especially when combined with few-shot examples. It is worth noting that this technique doesn't completely eliminate hallucinations, and that it tends to cost more to run, due to the increased token count.\n",
    "\n",
    "Models like the Gemini family are trained to be \"chatty\" or \"thoughtful\" and will provide reasoning steps without prompting, so for this simple example you can ask the model to be more direct in the prompt to force a non-reasoning response. Try re-running this step if the model gets lucky and gets the answer correct on the first try."
   ]
  },
  {
   "cell_type": "code",
   "execution_count": 26,
   "id": "8792b8a7",
   "metadata": {
    "execution": {
     "iopub.execute_input": "2025-03-31T15:10:45.389399Z",
     "iopub.status.busy": "2025-03-31T15:10:45.388970Z",
     "iopub.status.idle": "2025-03-31T15:10:45.709588Z",
     "shell.execute_reply": "2025-03-31T15:10:45.708532Z"
    },
    "id": "5715555db1c1",
    "papermill": {
     "duration": 0.340367,
     "end_time": "2025-03-31T15:10:45.712179",
     "exception": false,
     "start_time": "2025-03-31T15:10:45.371812",
     "status": "completed"
    },
    "tags": []
   },
   "outputs": [
    {
     "name": "stdout",
     "output_type": "stream",
     "text": [
      "48\n",
      "\n"
     ]
    }
   ],
   "source": [
    "prompt = \"\"\"When I was 4 years old, my partner was 3 times my age. Now, I\n",
    "am 20 years old. How old is my partner? Return the answer directly.\"\"\"\n",
    "\n",
    "response = client.models.generate_content(\n",
    "    model='gemini-2.0-flash',\n",
    "    contents=prompt)\n",
    "\n",
    "print(response.text)"
   ]
  },
  {
   "cell_type": "markdown",
   "id": "56cab0f8",
   "metadata": {
    "id": "e12b19677bfd",
    "papermill": {
     "duration": 0.015339,
     "end_time": "2025-03-31T15:10:45.742426",
     "exception": false,
     "start_time": "2025-03-31T15:10:45.727087",
     "status": "completed"
    },
    "tags": []
   },
   "source": [
    "Now try the same approach, but indicate to the model that it should \"think step by step\"."
   ]
  },
  {
   "cell_type": "code",
   "execution_count": 27,
   "id": "ac78c770",
   "metadata": {
    "execution": {
     "iopub.execute_input": "2025-03-31T15:10:45.773931Z",
     "iopub.status.busy": "2025-03-31T15:10:45.773521Z",
     "iopub.status.idle": "2025-03-31T15:10:46.763533Z",
     "shell.execute_reply": "2025-03-31T15:10:46.762203Z"
    },
    "id": "ffd7536a481f",
    "papermill": {
     "duration": 1.008958,
     "end_time": "2025-03-31T15:10:46.766198",
     "exception": false,
     "start_time": "2025-03-31T15:10:45.757240",
     "status": "completed"
    },
    "tags": []
   },
   "outputs": [
    {
     "data": {
      "text/markdown": [
       "Here's how to solve the problem step-by-step:\n",
       "\n",
       "1.  **Find the age difference:** When you were 4, your partner was 3 times your age, meaning they were 4 * 3 = 12 years old.\n",
       "2.  **Calculate the age gap:** The age difference between you and your partner is 12 - 4 = 8 years.\n",
       "3.  **Determine your partner's current age:** Since the age difference remains constant, your partner is always 8 years older than you. Now that you are 20, your partner is 20 + 8 = 28 years old.\n",
       "\n",
       "**Therefore, your partner is 28 years old.**"
      ],
      "text/plain": [
       "<IPython.core.display.Markdown object>"
      ]
     },
     "execution_count": 27,
     "metadata": {},
     "output_type": "execute_result"
    }
   ],
   "source": [
    "prompt = \"\"\"When I was 4 years old, my partner was 3 times my age. Now,\n",
    "I am 20 years old. How old is my partner? Let's think step by step.\"\"\"\n",
    "\n",
    "response = client.models.generate_content(\n",
    "    model='gemini-2.0-flash',\n",
    "    contents=prompt)\n",
    "\n",
    "Markdown(response.text)"
   ]
  },
  {
   "cell_type": "markdown",
   "id": "03055a3f",
   "metadata": {
    "id": "oiLgBQJj0V53",
    "papermill": {
     "duration": 0.015134,
     "end_time": "2025-03-31T15:10:46.797007",
     "exception": false,
     "start_time": "2025-03-31T15:10:46.781873",
     "status": "completed"
    },
    "tags": []
   },
   "source": [
    "### ReAct: Reason and act\n",
    "\n",
    "In this example you will run a ReAct prompt directly in the Gemini API and perform the searching steps yourself. As this prompt follows a well-defined structure, there are frameworks available that wrap the prompt into easier-to-use APIs that make tool calls automatically, such as the LangChain example from the \"Prompting\" whitepaper.\n",
    "\n",
    "To try this out with the Wikipedia search engine, check out the [Searching Wikipedia with ReAct](https://github.com/google-gemini/cookbook/blob/main/examples/Search_Wikipedia_using_ReAct.ipynb) cookbook example.\n",
    "\n",
    "\n",
    "> Note: The prompt and in-context examples used here are from [https://github.com/ysymyth/ReAct](https://github.com/ysymyth/ReAct) which is published under an [MIT license](https://opensource.org/licenses/MIT), Copyright (c) 2023 Shunyu Yao.\n",
    "\n",
    "<table align=left>\n",
    "  <td>\n",
    "    <a target=\"_blank\" href=\"https://aistudio.google.com/prompts/18oo63Lwosd-bQ6Ay51uGogB3Wk3H8XMO\"><img src=\"https://ai.google.dev/site-assets/images/marketing/home/icon-ais.png\" style=\"height: 24px\" height=24/> Open in AI Studio</a>\n",
    "  </td>\n",
    "</table>\n"
   ]
  },
  {
   "cell_type": "code",
   "execution_count": 28,
   "id": "0d104e2a",
   "metadata": {
    "execution": {
     "iopub.execute_input": "2025-03-31T15:10:46.830212Z",
     "iopub.status.busy": "2025-03-31T15:10:46.829789Z",
     "iopub.status.idle": "2025-03-31T15:10:46.837517Z",
     "shell.execute_reply": "2025-03-31T15:10:46.836169Z"
    },
    "id": "cBgyNJ5z0VSs",
    "papermill": {
     "duration": 0.027682,
     "end_time": "2025-03-31T15:10:46.840205",
     "exception": false,
     "start_time": "2025-03-31T15:10:46.812523",
     "status": "completed"
    },
    "tags": []
   },
   "outputs": [],
   "source": [
    "model_instructions = \"\"\"\n",
    "Solve a question answering task with interleaving Thought, Action, Observation steps. Thought can reason about the current situation,\n",
    "Observation is understanding relevant information from an Action's output and Action can be one of three types:\n",
    " (1) <search>entity</search>, which searches the exact entity on Wikipedia and returns the first paragraph if it exists. If not, it\n",
    "     will return some similar entities to search and you can try to search the information from those topics.\n",
    " (2) <lookup>keyword</lookup>, which returns the next sentence containing keyword in the current context. This only does exact matches,\n",
    "     so keep your searches short.\n",
    " (3) <finish>answer</finish>, which returns the answer and finishes the task.\n",
    "\"\"\"\n",
    "\n",
    "example1 = \"\"\"Question\n",
    "Musician and satirist Allie Goertz wrote a song about the \"The Simpsons\" character Milhouse, who Matt Groening named after who?\n",
    "\n",
    "Thought 1\n",
    "The question simplifies to \"The Simpsons\" character Milhouse is named after who. I only need to search Milhouse and find who it is named after.\n",
    "\n",
    "Action 1\n",
    "<search>Milhouse</search>\n",
    "\n",
    "Observation 1\n",
    "Milhouse Mussolini Van Houten is a recurring character in the Fox animated television series The Simpsons voiced by Pamela Hayden and created by Matt Groening.\n",
    "\n",
    "Thought 2\n",
    "The paragraph does not tell who Milhouse is named after, maybe I can look up \"named after\".\n",
    "\n",
    "Action 2\n",
    "<lookup>named after</lookup>\n",
    "\n",
    "Observation 2\n",
    "Milhouse was named after U.S. president Richard Nixon, whose middle name was Milhous.\n",
    "\n",
    "Thought 3\n",
    "Milhouse was named after U.S. president Richard Nixon, so the answer is Richard Nixon.\n",
    "\n",
    "Action 3\n",
    "<finish>Richard Nixon</finish>\n",
    "\"\"\"\n",
    "\n",
    "example2 = \"\"\"Question\n",
    "What is the elevation range for the area that the eastern sector of the Colorado orogeny extends into?\n",
    "\n",
    "Thought 1\n",
    "I need to search Colorado orogeny, find the area that the eastern sector of the Colorado orogeny extends into, then find the elevation range of the area.\n",
    "\n",
    "Action 1\n",
    "<search>Colorado orogeny</search>\n",
    "\n",
    "Observation 1\n",
    "The Colorado orogeny was an episode of mountain building (an orogeny) in Colorado and surrounding areas.\n",
    "\n",
    "Thought 2\n",
    "It does not mention the eastern sector. So I need to look up eastern sector.\n",
    "\n",
    "Action 2\n",
    "<lookup>eastern sector</lookup>\n",
    "\n",
    "Observation 2\n",
    "The eastern sector extends into the High Plains and is called the Central Plains orogeny.\n",
    "\n",
    "Thought 3\n",
    "The eastern sector of Colorado orogeny extends into the High Plains. So I need to search High Plains and find its elevation range.\n",
    "\n",
    "Action 3\n",
    "<search>High Plains</search>\n",
    "\n",
    "Observation 3\n",
    "High Plains refers to one of two distinct land regions\n",
    "\n",
    "Thought 4\n",
    "I need to instead search High Plains (United States).\n",
    "\n",
    "Action 4\n",
    "<search>High Plains (United States)</search>\n",
    "\n",
    "Observation 4\n",
    "The High Plains are a subregion of the Great Plains. From east to west, the High Plains rise in elevation from around 1,800 to 7,000 ft (550 to 2,130m).\n",
    "\n",
    "Thought 5\n",
    "High Plains rise in elevation from around 1,800 to 7,000 ft, so the answer is 1,800 to 7,000 ft.\n",
    "\n",
    "Action 5\n",
    "<finish>1,800 to 7,000 ft</finish>\n",
    "\"\"\"\n",
    "\n",
    "# Come up with more examples yourself, or take a look through https://github.com/ysymyth/ReAct/"
   ]
  },
  {
   "cell_type": "markdown",
   "id": "3b88a9c9",
   "metadata": {
    "id": "C3wbfstjTgey",
    "papermill": {
     "duration": 0.015406,
     "end_time": "2025-03-31T15:10:46.871649",
     "exception": false,
     "start_time": "2025-03-31T15:10:46.856243",
     "status": "completed"
    },
    "tags": []
   },
   "source": [
    "To capture a single step at a time, while ignoring any hallucinated Observation steps, you will use `stop_sequences` to end the generation process. The steps are `Thought`, `Action`, `Observation`, in that order."
   ]
  },
  {
   "cell_type": "code",
   "execution_count": 29,
   "id": "b8348c56",
   "metadata": {
    "execution": {
     "iopub.execute_input": "2025-03-31T15:10:46.911370Z",
     "iopub.status.busy": "2025-03-31T15:10:46.910961Z",
     "iopub.status.idle": "2025-03-31T15:10:47.398202Z",
     "shell.execute_reply": "2025-03-31T15:10:47.396560Z"
    },
    "id": "8mxrXRkRTdXm",
    "papermill": {
     "duration": 0.510054,
     "end_time": "2025-03-31T15:10:47.400965",
     "exception": false,
     "start_time": "2025-03-31T15:10:46.890911",
     "status": "completed"
    },
    "tags": []
   },
   "outputs": [
    {
     "name": "stdout",
     "output_type": "stream",
     "text": [
      "Thought 1\n",
      "I need to find the transformers NLP paper and then identify the youngest author listed on it.\n",
      "\n",
      "Action 1\n",
      "<search>transformers NLP paper</search>\n",
      "\n"
     ]
    }
   ],
   "source": [
    "question = \"\"\"Question\n",
    "Who was the youngest author listed on the transformers NLP paper?\n",
    "\"\"\"\n",
    "\n",
    "# You will perform the Action; so generate up to, but not including, the Observation.\n",
    "react_config = types.GenerateContentConfig(\n",
    "    stop_sequences=[\"\\nObservation\"],\n",
    "    system_instruction=model_instructions + example1 + example2,\n",
    ")\n",
    "\n",
    "# Create a chat that has the model instructions and examples pre-seeded.\n",
    "react_chat = client.chats.create(\n",
    "    model='gemini-2.0-flash',\n",
    "    config=react_config,\n",
    ")\n",
    "\n",
    "resp = react_chat.send_message(question)\n",
    "print(resp.text)"
   ]
  },
  {
   "cell_type": "markdown",
   "id": "65485c2c",
   "metadata": {
    "id": "aW2PIdLbVv3l",
    "papermill": {
     "duration": 0.015093,
     "end_time": "2025-03-31T15:10:47.431542",
     "exception": false,
     "start_time": "2025-03-31T15:10:47.416449",
     "status": "completed"
    },
    "tags": []
   },
   "source": [
    "Now you can perform this research yourself and supply it back to the model."
   ]
  },
  {
   "cell_type": "code",
   "execution_count": 30,
   "id": "df6eabe6",
   "metadata": {
    "execution": {
     "iopub.execute_input": "2025-03-31T15:10:47.464820Z",
     "iopub.status.busy": "2025-03-31T15:10:47.464328Z",
     "iopub.status.idle": "2025-03-31T15:10:48.162001Z",
     "shell.execute_reply": "2025-03-31T15:10:48.160548Z"
    },
    "id": "mLMc0DZaV9g2",
    "papermill": {
     "duration": 0.717369,
     "end_time": "2025-03-31T15:10:48.164575",
     "exception": false,
     "start_time": "2025-03-31T15:10:47.447206",
     "status": "completed"
    },
    "tags": []
   },
   "outputs": [
    {
     "name": "stdout",
     "output_type": "stream",
     "text": [
      "Thought 2\n",
      "I need to find the youngest author among Ashish Vaswani, Noam Shazeer, Niki Parmar, Jakob Uszkoreit, Llion Jones, Aidan N. Gomez, Lukasz Kaiser, Illia Polosukhin. I can try searching each name on Wikipedia to try and find their date of birth.\n",
      "\n",
      "Action 2\n",
      "<search>Ashish Vaswani</search>\n",
      "\n"
     ]
    }
   ],
   "source": [
    "observation = \"\"\"Observation 1\n",
    "[1706.03762] Attention Is All You Need\n",
    "Ashish Vaswani, Noam Shazeer, Niki Parmar, Jakob Uszkoreit, Llion Jones, Aidan N. Gomez, Lukasz Kaiser, Illia Polosukhin\n",
    "We propose a new simple network architecture, the Transformer, based solely on attention mechanisms, dispensing with recurrence and convolutions entirely.\n",
    "\"\"\"\n",
    "resp = react_chat.send_message(observation)\n",
    "print(resp.text)"
   ]
  },
  {
   "cell_type": "markdown",
   "id": "a9624863",
   "metadata": {
    "id": "bo0tzf4nX6dA",
    "papermill": {
     "duration": 0.01555,
     "end_time": "2025-03-31T15:10:48.195296",
     "exception": false,
     "start_time": "2025-03-31T15:10:48.179746",
     "status": "completed"
    },
    "tags": []
   },
   "source": [
    "This process repeats until the `<finish>` action is reached. You can continue running this yourself if you like, or try the [Wikipedia example](https://github.com/google-gemini/cookbook/blob/main/examples/Search_Wikipedia_using_ReAct.ipynb) to see a fully automated ReAct system at work."
   ]
  },
  {
   "cell_type": "markdown",
   "id": "e6d0e1ad",
   "metadata": {
    "papermill": {
     "duration": 0.015805,
     "end_time": "2025-03-31T15:10:48.226962",
     "exception": false,
     "start_time": "2025-03-31T15:10:48.211157",
     "status": "completed"
    },
    "tags": []
   },
   "source": [
    "## Thinking mode\n",
    "\n",
    "The experiemental Gemini Flash 2.0 \"Thinking\" model has been trained to generate the \"thinking process\" the model goes through as part of its response. As a result, the Flash Thinking model is capable of stronger reasoning capabilities in its responses.\n",
    "\n",
    "Using a \"thinking mode\" model can provide you with high-quality responses without needing specialised prompting like the previous approaches. One reason this technique is effective is that you induce the model to generate relevant information (\"brainstorming\", or \"thoughts\") that is then used as part of the context in which the final response is generated.\n",
    "\n",
    "Note that when you use the API, you get the final response from the model, but the thoughts are not captured. To see the intermediate thoughts, try out [the thinking mode model in AI Studio](https://aistudio.google.com/prompts/new_chat?model=gemini-2.0-flash-thinking-exp-01-21).\n",
    "\n",
    "<table align=left>\n",
    "  <td>\n",
    "    <a target=\"_blank\" href=\"https://aistudio.google.com/prompts/1Z991SV7lZZZqioOiqIUPv9a9ix-ws4zk\"><img src=\"https://ai.google.dev/site-assets/images/marketing/home/icon-ais.png\" style=\"height: 24px\" height=24/> Open in AI Studio</a>\n",
    "  </td>\n",
    "</table>"
   ]
  },
  {
   "cell_type": "code",
   "execution_count": 31,
   "id": "1b574270",
   "metadata": {
    "execution": {
     "iopub.execute_input": "2025-03-31T15:10:48.260374Z",
     "iopub.status.busy": "2025-03-31T15:10:48.259975Z",
     "iopub.status.idle": "2025-03-31T15:10:56.405280Z",
     "shell.execute_reply": "2025-03-31T15:10:56.404101Z"
    },
    "papermill": {
     "duration": 8.164545,
     "end_time": "2025-03-31T15:10:56.407897",
     "exception": false,
     "start_time": "2025-03-31T15:10:48.243352",
     "status": "completed"
    },
    "tags": []
   },
   "outputs": [
    {
     "data": {
      "text/markdown": [
       "The youngest author listed on the \"Attention is All You Need\" paper (the \"transformers NLP paper\") is **Aidan N. Gomez**.\n",
       "\n",
       "While precise birthdates aren't always publicly available for all authors, based on readily available information and career stages at the time of publication, Aidan N. Gomez was likely the youngest. He was a PhD student at the University of Toronto during the time the paper was written.  The other authors were generally more senior researchers at Google Brain or the University of Toronto.\n",
       "\n",
       "It's important to note that \"youngest\" here is an estimation based on typical academic career progression.  Without explicit birth dates for every author, it's the most reasonable conclusion."
      ],
      "text/plain": [
       "<IPython.core.display.Markdown object>"
      ]
     },
     "execution_count": 31,
     "metadata": {},
     "output_type": "execute_result"
    }
   ],
   "source": [
    "import io\n",
    "from IPython.display import Markdown, clear_output\n",
    "\n",
    "\n",
    "response = client.models.generate_content_stream(\n",
    "    model='gemini-2.0-flash-thinking-exp',\n",
    "    contents='Who was the youngest author listed on the transformers NLP paper?',\n",
    ")\n",
    "\n",
    "buf = io.StringIO()\n",
    "for chunk in response:\n",
    "    buf.write(chunk.text)\n",
    "    # Display the response as it is streamed\n",
    "    print(chunk.text, end='')\n",
    "\n",
    "# And then render the finished response as formatted markdown.\n",
    "clear_output()\n",
    "Markdown(buf.getvalue())"
   ]
  },
  {
   "cell_type": "markdown",
   "id": "b940e9b4",
   "metadata": {
    "id": "jPiZ_eIIaVPt",
    "papermill": {
     "duration": 0.014974,
     "end_time": "2025-03-31T15:10:56.438899",
     "exception": false,
     "start_time": "2025-03-31T15:10:56.423925",
     "status": "completed"
    },
    "tags": []
   },
   "source": [
    "## Code prompting"
   ]
  },
  {
   "cell_type": "markdown",
   "id": "ba93d2e0",
   "metadata": {
    "id": "ZinKamwXeR6C",
    "papermill": {
     "duration": 0.025314,
     "end_time": "2025-03-31T15:10:56.479806",
     "exception": false,
     "start_time": "2025-03-31T15:10:56.454492",
     "status": "completed"
    },
    "tags": []
   },
   "source": [
    "### Generating code\n",
    "\n",
    "The Gemini family of models can be used to generate code, configuration and scripts. Generating code can be helpful when learning to code, learning a new language or for rapidly generating a first draft.\n",
    "\n",
    "It's important to be aware that since LLMs can make mistakes, and can repeat training data, it's essential to read and test your code first, and comply with any relevant licenses.\n",
    "\n",
    "<table align=left>\n",
    "  <td>\n",
    "    <a target=\"_blank\" href=\"https://aistudio.google.com/prompts/1YX71JGtzDjXQkgdes8bP6i3oH5lCRKxv\"><img src=\"https://ai.google.dev/site-assets/images/marketing/home/icon-ais.png\" style=\"height: 24px\" height=24/> Open in AI Studio</a>\n",
    "  </td>\n",
    "</table>"
   ]
  },
  {
   "cell_type": "code",
   "execution_count": 32,
   "id": "11073dad",
   "metadata": {
    "execution": {
     "iopub.execute_input": "2025-03-31T15:10:56.522004Z",
     "iopub.status.busy": "2025-03-31T15:10:56.521370Z",
     "iopub.status.idle": "2025-03-31T15:10:56.964016Z",
     "shell.execute_reply": "2025-03-31T15:10:56.962649Z"
    },
    "id": "fOQP9pqmeUO1",
    "papermill": {
     "duration": 0.46878,
     "end_time": "2025-03-31T15:10:56.966616",
     "exception": false,
     "start_time": "2025-03-31T15:10:56.497836",
     "status": "completed"
    },
    "tags": []
   },
   "outputs": [
    {
     "data": {
      "text/markdown": [
       "```python\n",
       "def factorial(n):\n",
       "  \"\"\"Calculate the factorial of a number.\"\"\"\n",
       "  if n == 0:\n",
       "    return 1\n",
       "  else:\n",
       "    return n * factorial(n-1)\n",
       "```\n"
      ],
      "text/plain": [
       "<IPython.core.display.Markdown object>"
      ]
     },
     "execution_count": 32,
     "metadata": {},
     "output_type": "execute_result"
    }
   ],
   "source": [
    "# The Gemini models love to talk, so it helps to specify they stick to the code if that\n",
    "# is all that you want.\n",
    "code_prompt = \"\"\"\n",
    "Write a Python function to calculate the factorial of a number. No explanation, provide only the code.\n",
    "\"\"\"\n",
    "\n",
    "response = client.models.generate_content(\n",
    "    model='gemini-2.0-flash',\n",
    "    config=types.GenerateContentConfig(\n",
    "        temperature=1,\n",
    "        top_p=1,\n",
    "        max_output_tokens=1024,\n",
    "    ),\n",
    "    contents=code_prompt)\n",
    "\n",
    "Markdown(response.text)"
   ]
  },
  {
   "cell_type": "markdown",
   "id": "d16bd9c5",
   "metadata": {
    "id": "wlBMWSFhgVRQ",
    "papermill": {
     "duration": 0.01576,
     "end_time": "2025-03-31T15:10:56.998190",
     "exception": false,
     "start_time": "2025-03-31T15:10:56.982430",
     "status": "completed"
    },
    "tags": []
   },
   "source": [
    "### Code execution\n",
    "\n",
    "The Gemini API can automatically run generated code too, and will return the output.\n",
    "\n",
    "<table align=left>\n",
    "  <td>\n",
    "    <a target=\"_blank\" href=\"https://aistudio.google.com/prompts/11veFr_VYEwBWcLkhNLr-maCG0G8sS_7Z\"><img src=\"https://ai.google.dev/site-assets/images/marketing/home/icon-ais.png\" style=\"height: 24px\" height=24/> Open in AI Studio</a>\n",
    "  </td>\n",
    "</table>"
   ]
  },
  {
   "cell_type": "code",
   "execution_count": 33,
   "id": "d84f2245",
   "metadata": {
    "execution": {
     "iopub.execute_input": "2025-03-31T15:10:57.033900Z",
     "iopub.status.busy": "2025-03-31T15:10:57.033268Z",
     "iopub.status.idle": "2025-03-31T15:10:59.329989Z",
     "shell.execute_reply": "2025-03-31T15:10:59.328886Z"
    },
    "id": "jT3OfWYfhjRL",
    "papermill": {
     "duration": 2.317163,
     "end_time": "2025-03-31T15:10:59.332414",
     "exception": false,
     "start_time": "2025-03-31T15:10:57.015251",
     "status": "completed"
    },
    "tags": []
   },
   "outputs": [
    {
     "name": "stdout",
     "output_type": "stream",
     "text": [
      "{'text': 'Okay, I can do that. First, I need to generate the first 14 odd '\n",
      "         'prime numbers. A prime number is a number greater than 1 that has no '\n",
      "         'positive divisors other than 1 and itself. Odd prime numbers are '\n",
      "         'prime numbers that are not 2.\\n'\n",
      "         '\\n'\n",
      "         \"Here's how I'll approach this:\\n\"\n",
      "         '\\n'\n",
      "         '1.  Start listing odd numbers greater than 1.\\n'\n",
      "         '2.  Check each number for primality.\\n'\n",
      "         \"3.  Add it to a list of odd prime numbers if it's prime.\\n\"\n",
      "         '4.  Stop when I have 14 odd prime numbers.\\n'\n",
      "         \"5.  Then I'll calculate their sum.\\n\"\n",
      "         '\\n'}\n",
      "-----\n",
      "{'executable_code': {'code': 'def is_prime(n):\\n'\n",
      "                             '    if n <= 1:\\n'\n",
      "                             '        return False\\n'\n",
      "                             '    for i in range(2, int(n**0.5) + 1):\\n'\n",
      "                             '        if n % i == 0:\\n'\n",
      "                             '            return False\\n'\n",
      "                             '    return True\\n'\n",
      "                             '\\n'\n",
      "                             'odd_primes = []\\n'\n",
      "                             'num = 3\\n'\n",
      "                             'while len(odd_primes) < 14:\\n'\n",
      "                             '    if is_prime(num):\\n'\n",
      "                             '        odd_primes.append(num)\\n'\n",
      "                             '    num += 2\\n'\n",
      "                             '\\n'\n",
      "                             \"print(f'{odd_primes=}')\\n\"\n",
      "                             '\\n'\n",
      "                             'import numpy as np\\n'\n",
      "                             'sum_of_primes = np.sum(odd_primes)\\n'\n",
      "                             \"print(f'{sum_of_primes=}')\\n\",\n",
      "                     'language': 'PYTHON'}}\n",
      "-----\n",
      "{'code_execution_result': {'outcome': 'OUTCOME_OK',\n",
      "                           'output': 'odd_primes=[3, 5, 7, 11, 13, 17, 19, 23, '\n",
      "                                     '29, 31, 37, 41, 43, 47]\\n'\n",
      "                                     'sum_of_primes=np.int64(326)\\n'}}\n",
      "-----\n",
      "{'text': 'The first 14 odd prime numbers are 3, 5, 7, 11, 13, 17, 19, 23, 29, '\n",
      "         '31, 37, 41, 43, and 47. Their sum is 326.\\n'}\n",
      "-----\n"
     ]
    }
   ],
   "source": [
    "from pprint import pprint\n",
    "\n",
    "config = types.GenerateContentConfig(\n",
    "    tools=[types.Tool(code_execution=types.ToolCodeExecution())],\n",
    ")\n",
    "\n",
    "code_exec_prompt = \"\"\"\n",
    "Generate the first 14 odd prime numbers, then calculate their sum.\n",
    "\"\"\"\n",
    "\n",
    "response = client.models.generate_content(\n",
    "    model='gemini-2.0-flash',\n",
    "    config=config,\n",
    "    contents=code_exec_prompt)\n",
    "\n",
    "for part in response.candidates[0].content.parts:\n",
    "  pprint(part.to_json_dict())\n",
    "  print(\"-----\")"
   ]
  },
  {
   "cell_type": "markdown",
   "id": "b3a0ba64",
   "metadata": {
    "id": "ZspT1GSkjG6d",
    "papermill": {
     "duration": 0.014957,
     "end_time": "2025-03-31T15:10:59.362696",
     "exception": false,
     "start_time": "2025-03-31T15:10:59.347739",
     "status": "completed"
    },
    "tags": []
   },
   "source": [
    "This response contains multiple parts, including an opening and closing text part that represent regular responses, an `executable_code` part that represents generated code and a `code_execution_result` part that represents the results from running the generated code.\n",
    "\n",
    "You can explore them individually."
   ]
  },
  {
   "cell_type": "code",
   "execution_count": 34,
   "id": "a6d4df4c",
   "metadata": {
    "execution": {
     "iopub.execute_input": "2025-03-31T15:10:59.395280Z",
     "iopub.status.busy": "2025-03-31T15:10:59.394877Z",
     "iopub.status.idle": "2025-03-31T15:10:59.409925Z",
     "shell.execute_reply": "2025-03-31T15:10:59.408733Z"
    },
    "papermill": {
     "duration": 0.033622,
     "end_time": "2025-03-31T15:10:59.411963",
     "exception": false,
     "start_time": "2025-03-31T15:10:59.378341",
     "status": "completed"
    },
    "tags": []
   },
   "outputs": [
    {
     "data": {
      "text/markdown": [
       "Okay, I can do that. First, I need to generate the first 14 odd prime numbers. A prime number is a number greater than 1 that has no positive divisors other than 1 and itself. Odd prime numbers are prime numbers that are not 2.\n",
       "\n",
       "Here's how I'll approach this:\n",
       "\n",
       "1.  Start listing odd numbers greater than 1.\n",
       "2.  Check each number for primality.\n",
       "3.  Add it to a list of odd prime numbers if it's prime.\n",
       "4.  Stop when I have 14 odd prime numbers.\n",
       "5.  Then I'll calculate their sum.\n",
       "\n"
      ],
      "text/plain": [
       "<IPython.core.display.Markdown object>"
      ]
     },
     "metadata": {},
     "output_type": "display_data"
    },
    {
     "data": {
      "text/markdown": [
       "```python\n",
       "def is_prime(n):\n",
       "    if n <= 1:\n",
       "        return False\n",
       "    for i in range(2, int(n**0.5) + 1):\n",
       "        if n % i == 0:\n",
       "            return False\n",
       "    return True\n",
       "\n",
       "odd_primes = []\n",
       "num = 3\n",
       "while len(odd_primes) < 14:\n",
       "    if is_prime(num):\n",
       "        odd_primes.append(num)\n",
       "    num += 2\n",
       "\n",
       "print(f'{odd_primes=}')\n",
       "\n",
       "import numpy as np\n",
       "sum_of_primes = np.sum(odd_primes)\n",
       "print(f'{sum_of_primes=}')\n",
       "\n",
       "```"
      ],
      "text/plain": [
       "<IPython.core.display.Markdown object>"
      ]
     },
     "metadata": {},
     "output_type": "display_data"
    },
    {
     "data": {
      "text/markdown": [
       "```\n",
       "odd_primes=[3, 5, 7, 11, 13, 17, 19, 23, 29, 31, 37, 41, 43, 47]\n",
       "sum_of_primes=np.int64(326)\n",
       "\n",
       "```"
      ],
      "text/plain": [
       "<IPython.core.display.Markdown object>"
      ]
     },
     "metadata": {},
     "output_type": "display_data"
    },
    {
     "data": {
      "text/markdown": [
       "The first 14 odd prime numbers are 3, 5, 7, 11, 13, 17, 19, 23, 29, 31, 37, 41, 43, and 47. Their sum is 326.\n"
      ],
      "text/plain": [
       "<IPython.core.display.Markdown object>"
      ]
     },
     "metadata": {},
     "output_type": "display_data"
    }
   ],
   "source": [
    "for part in response.candidates[0].content.parts:\n",
    "    if part.text:\n",
    "        display(Markdown(part.text))\n",
    "    elif part.executable_code:\n",
    "        display(Markdown(f'```python\\n{part.executable_code.code}\\n```'))\n",
    "    elif part.code_execution_result:\n",
    "        if part.code_execution_result.outcome != 'OUTCOME_OK':\n",
    "            display(Markdown(f'## Status {part.code_execution_result.outcome}'))\n",
    "\n",
    "        display(Markdown(f'```\\n{part.code_execution_result.output}\\n```'))"
   ]
  },
  {
   "cell_type": "markdown",
   "id": "eae34670",
   "metadata": {
    "id": "1gUX8QzCj4d5",
    "papermill": {
     "duration": 0.015333,
     "end_time": "2025-03-31T15:10:59.443726",
     "exception": false,
     "start_time": "2025-03-31T15:10:59.428393",
     "status": "completed"
    },
    "tags": []
   },
   "source": [
    "### Explaining code\n",
    "\n",
    "The Gemini family of models can explain code to you too. In this example, you pass a [bash script](https://github.com/magicmonty/bash-git-prompt) and ask some questions.\n",
    "\n",
    "<table align=left>\n",
    "  <td>\n",
    "    <a target=\"_blank\" href=\"https://aistudio.google.com/prompts/1N7LGzWzCYieyOf_7bAG4plrmkpDNmUyb\"><img src=\"https://ai.google.dev/site-assets/images/marketing/home/icon-ais.png\" style=\"height: 24px\" height=24/> Open in AI Studio</a>\n",
    "  </td>\n",
    "</table>"
   ]
  },
  {
   "cell_type": "code",
   "execution_count": 35,
   "id": "624d29b0",
   "metadata": {
    "execution": {
     "iopub.execute_input": "2025-03-31T15:10:59.477300Z",
     "iopub.status.busy": "2025-03-31T15:10:59.476846Z",
     "iopub.status.idle": "2025-03-31T15:11:02.000615Z",
     "shell.execute_reply": "2025-03-31T15:11:01.998948Z"
    },
    "id": "7_jPMMoxkIEb",
    "papermill": {
     "duration": 2.544893,
     "end_time": "2025-03-31T15:11:02.004363",
     "exception": false,
     "start_time": "2025-03-31T15:10:59.459470",
     "status": "completed"
    },
    "tags": []
   },
   "outputs": [
    {
     "data": {
      "text/markdown": [
       "This file is a shell script (likely for Bash or Zsh) designed to enhance your command-line prompt with Git repository information.  In other words, it makes your prompt smarter about Git.\n",
       "\n",
       "**What it does (High-Level):**\n",
       "\n",
       "1.  **Displays Git Status:** When you're in a Git repository, it shows information like:\n",
       "    *   The current branch name.\n",
       "    *   Whether there are uncommitted changes (staged, unstaged, untracked).\n",
       "    *   Whether your local branch is ahead, behind, or up-to-date with the remote.\n",
       "    *   Stash information\n",
       "\n",
       "2.  **Customizable Appearance:**  It allows you to customize the colors and symbols used to display this Git information, making your prompt more informative and visually appealing. Themes are loaded from files.\n",
       "\n",
       "3.  **Asynchronous Updates:** It can fetch remote Git status in the background, preventing your prompt from slowing down while it checks for updates.\n",
       "\n",
       "**Why would you use it?**\n",
       "\n",
       "*   **Improved Workflow:**  Quickly see the state of your Git repository without needing to run `git status` all the time. This can make your development workflow faster and more intuitive.\n",
       "*   **Visual Cues:**  The colors and symbols provide immediate visual cues about the state of your repository, helping you avoid common mistakes.\n",
       "*   **Customization:**  Tailor the prompt to your preferences, so it displays the information you find most useful in a way that's visually pleasing to you.\n",
       "*   **Virtual Environment Awareness:** It can also show information about your current virtual environment (e.g., Python's `venv` or `conda`).\n"
      ],
      "text/plain": [
       "<IPython.core.display.Markdown object>"
      ]
     },
     "execution_count": 35,
     "metadata": {},
     "output_type": "execute_result"
    }
   ],
   "source": [
    "file_contents = !curl https://raw.githubusercontent.com/magicmonty/bash-git-prompt/refs/heads/master/gitprompt.sh\n",
    "\n",
    "explain_prompt = f\"\"\"\n",
    "Please explain what this file does at a very high level. What is it, and why would I use it?\n",
    "\n",
    "```\n",
    "{file_contents}\n",
    "```\n",
    "\"\"\"\n",
    "\n",
    "response = client.models.generate_content(\n",
    "    model='gemini-2.0-flash',\n",
    "    contents=explain_prompt)\n",
    "\n",
    "Markdown(response.text)"
   ]
  },
  {
   "cell_type": "markdown",
   "id": "e74e6102",
   "metadata": {
    "id": "2a8266d97ce5",
    "papermill": {
     "duration": 0.016939,
     "end_time": "2025-03-31T15:11:02.037813",
     "exception": false,
     "start_time": "2025-03-31T15:11:02.020874",
     "status": "completed"
    },
    "tags": []
   },
   "source": [
    "## Learn more\n",
    "\n",
    "To learn more about prompting in depth:\n",
    "\n",
    "* Check out the whitepaper issued with today's content,\n",
    "* Try out the apps listed at the top of this notebook ([TextFX](https://textfx.withgoogle.com/), [SQL Talk](https://sql-talk-r5gdynozbq-uc.a.run.app/) and [NotebookLM](https://notebooklm.google/)),\n",
    "* Read the [Introduction to Prompting](https://ai.google.dev/gemini-api/docs/prompting-intro) from the Gemini API docs,\n",
    "* Explore the Gemini API's [prompt gallery](https://ai.google.dev/gemini-api/prompts) and try them out in AI Studio,\n",
    "* Check out the Gemini API cookbook for [inspirational examples](https://github.com/google-gemini/cookbook/blob/main/examples/) and [educational quickstarts](https://github.com/google-gemini/cookbook/blob/main/quickstarts/).\n",
    "\n",
    "Be sure to check out the codelabs on day 3 too, where you will explore some more advanced prompting with code execution.\n",
    "\n",
    "And please share anything exciting you have tried in the Discord!\n",
    "\n",
    "*- [Mark McD](https://linktr.ee/markmcd)*"
   ]
  }
 ],
 "metadata": {
  "colab": {
   "name": "day-1-prompting.ipynb",
   "toc_visible": true
  },
  "kaggle": {
   "accelerator": "none",
   "dataSources": [],
   "dockerImageVersionId": 30786,
   "isGpuEnabled": false,
   "isInternetEnabled": true,
   "language": "python",
   "sourceType": "notebook"
  },
  "kernelspec": {
   "display_name": "Python 3",
   "language": "python",
   "name": "python3"
  },
  "language_info": {
   "codemirror_mode": {
    "name": "ipython",
    "version": 3
   },
   "file_extension": ".py",
   "mimetype": "text/x-python",
   "name": "python",
   "nbconvert_exporter": "python",
   "pygments_lexer": "ipython3",
   "version": "3.10.14"
  },
  "papermill": {
   "default_parameters": {},
   "duration": 111.403645,
   "end_time": "2025-03-31T15:11:03.078214",
   "environment_variables": {},
   "exception": null,
   "input_path": "__notebook__.ipynb",
   "output_path": "__notebook__.ipynb",
   "parameters": {},
   "start_time": "2025-03-31T15:09:11.674569",
   "version": "2.6.0"
  }
 },
 "nbformat": 4,
 "nbformat_minor": 5
}
